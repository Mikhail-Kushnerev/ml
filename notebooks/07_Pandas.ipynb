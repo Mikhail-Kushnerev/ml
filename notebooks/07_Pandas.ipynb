{
 "cells": [
  {
   "cell_type": "markdown",
   "metadata": {
    "id": "_hmXpj3l1WIL"
   },
   "source": [
    "# Pandas (Часть 2)"
   ]
  },
  {
   "cell_type": "markdown",
   "source": [
    "> 🚀 В этой практике нам понадобятся: `numpy==1.21.2, pandas==1.3.3` \n",
    "\n",
    "> 🚀 Установить вы их можете с помощью команды: `!pip install numpy==1.21.2 pandas==1.3.3` \n"
   ],
   "metadata": {}
  },
  {
   "cell_type": "markdown",
   "source": [
    "## Содержание\n",
    "\n",
    "* [Условная индексация](#Условная-индексация)\n",
    "  * [Задание - фильтруем](#Задание---фильтруем)\n",
    "  * [Задание - еще фильтрации](#Задание---еще-фильтрации)\n",
    "* [Операции с рядами / Новые колонки](#Операции-с-рядами-/-Новые-колонки)\n",
    "* [Операции с фреймами](#Операции-с-фреймами)\n",
    "  * [Переименование колонок / индексов](#Переименование-колонок-/-индексов)\n",
    "    * [Задание - новые имена](#Задание---новые-имена)\n",
    "  * [Удаление колонок / строк](#Удаление-колонок-/-строк)\n",
    "  * [Определение количества NaN](#Определение-количества-NaN)\n",
    "  * [Заполнение пустых значений](#Заполнение-пустых-значений)\n",
    "  * [Информация об уникальных значениях](#Информация-об-уникальных-значениях)\n",
    "  * [Фильтрация](#Фильтрация)\n",
    "    * [Задание - и еще пофильтруем](#Задание---и-еще-пофильтруем)\n",
    "  * [Сортировка](#Сортировка)\n",
    "    * [Задание - снова сортируем](#Задание---снова-сортируем)\n",
    "* [Разделение данных на категории](#Разделение-данных-на-категории)\n",
    "  * [Задание - разделим по качеству](#Задание---разделим-по-качеству)\n",
    "* [Агрегация данных](#Агрегация-данных)\n",
    "  * [Задание - проще простого среднего](#Задание---проще-простого-среднего)\n",
    "* [Группировки](#Группировки)\n",
    "  * [Задание - сгруппируем](#Задание---сгруппируем)\n"
   ],
   "metadata": {}
  },
  {
   "cell_type": "markdown",
   "metadata": {},
   "source": [
    "В этом ноутбуке:\n",
    "- Опять условная индексация? \n",
    "- Как просто добавить новую колонку (x['name'] =) или убрать (.drop)\n",
    "- Подробнее про Nan \n",
    "- Уникальные значения (.unique)\n",
    "- Фильтрация по значению (.filter)\n",
    "- Сортировка (.sort_values)\n",
    "- Категоризация (.cut)\n",
    "- Очень важная \"Группировка\" (.groupby) - для операций с данными, объединенными по значениям ключевного столбца"
   ]
  },
  {
   "cell_type": "code",
   "execution_count": 1,
   "metadata": {
    "_cell_id": "hazT9XSLxttiqRH6"
   },
   "outputs": [],
   "source": [
    "import pandas as pd\n",
    "import numpy as np"
   ]
  },
  {
   "cell_type": "markdown",
   "metadata": {
    "id": "TTAoF4zjENYG"
   },
   "source": [
    "## Условная индексация"
   ]
  },
  {
   "cell_type": "markdown",
   "metadata": {
    "id": "z_s9peSYEPaB"
   },
   "source": [
    "При работе с данными часто необходимо выбрать часть данных по условному признаку. По аналогии с работой в numpy, применение булевых операторов на ряд данных создаёт такой же по размеру ряд из булевых элементов, представляющих собой маску:"
   ]
  },
  {
   "cell_type": "code",
   "execution_count": 3,
   "metadata": {
    "_cell_id": "BPY0vaQ3gzUo2r8u"
   },
   "outputs": [
    {
     "data": {
      "text/plain": "   x1  x2  x3\n0   1   5   4\n1   5   9   0\n2   2   2   2",
      "text/html": "<div>\n<style scoped>\n    .dataframe tbody tr th:only-of-type {\n        vertical-align: middle;\n    }\n\n    .dataframe tbody tr th {\n        vertical-align: top;\n    }\n\n    .dataframe thead th {\n        text-align: right;\n    }\n</style>\n<table border=\"1\" class=\"dataframe\">\n  <thead>\n    <tr style=\"text-align: right;\">\n      <th></th>\n      <th>x1</th>\n      <th>x2</th>\n      <th>x3</th>\n    </tr>\n  </thead>\n  <tbody>\n    <tr>\n      <th>0</th>\n      <td>1</td>\n      <td>5</td>\n      <td>4</td>\n    </tr>\n    <tr>\n      <th>1</th>\n      <td>5</td>\n      <td>9</td>\n      <td>0</td>\n    </tr>\n    <tr>\n      <th>2</th>\n      <td>2</td>\n      <td>2</td>\n      <td>2</td>\n    </tr>\n  </tbody>\n</table>\n</div>"
     },
     "execution_count": 3,
     "metadata": {},
     "output_type": "execute_result"
    }
   ],
   "source": [
    "df = pd.DataFrame(\n",
    "    data=np.random.randint(0, 10, size=(15, 3)), \n",
    "    columns=['x1', 'x2', 'x3']\n",
    ")\n",
    "df.head(3)"
   ]
  },
  {
   "cell_type": "code",
   "execution_count": 4,
   "metadata": {
    "_cell_id": "ZIjDI0y4MJ4tijz9"
   },
   "outputs": [
    {
     "data": {
      "text/plain": "0     False\n1     False\n2     False\n3     False\n4     False\n5     False\n6     False\n7      True\n8      True\n9     False\n10    False\n11    False\n12    False\n13     True\n14    False\nName: x1, dtype: bool"
     },
     "execution_count": 4,
     "metadata": {},
     "output_type": "execute_result"
    }
   ],
   "source": [
    "df['x1'] > 5"
   ]
  },
  {
   "cell_type": "markdown",
   "metadata": {
    "id": "KMgR5QXlHrci"
   },
   "source": [
    "После того, как маска получена, можно применить её, чтобы выбрать конкретные записи (строки) данных. При этом, индексация маской работает как при использовании `[]`, так и при использовании `.loc[]`."
   ]
  },
  {
   "cell_type": "code",
   "execution_count": 5,
   "metadata": {
    "_cell_id": "rNViH4toETaFg82e"
   },
   "outputs": [
    {
     "data": {
      "text/plain": "    x1  x2  x3\n7    9   5   8\n8    8   8   6\n13   7   8   4",
      "text/html": "<div>\n<style scoped>\n    .dataframe tbody tr th:only-of-type {\n        vertical-align: middle;\n    }\n\n    .dataframe tbody tr th {\n        vertical-align: top;\n    }\n\n    .dataframe thead th {\n        text-align: right;\n    }\n</style>\n<table border=\"1\" class=\"dataframe\">\n  <thead>\n    <tr style=\"text-align: right;\">\n      <th></th>\n      <th>x1</th>\n      <th>x2</th>\n      <th>x3</th>\n    </tr>\n  </thead>\n  <tbody>\n    <tr>\n      <th>7</th>\n      <td>9</td>\n      <td>5</td>\n      <td>8</td>\n    </tr>\n    <tr>\n      <th>8</th>\n      <td>8</td>\n      <td>8</td>\n      <td>6</td>\n    </tr>\n    <tr>\n      <th>13</th>\n      <td>7</td>\n      <td>8</td>\n      <td>4</td>\n    </tr>\n  </tbody>\n</table>\n</div>"
     },
     "execution_count": 5,
     "metadata": {},
     "output_type": "execute_result"
    }
   ],
   "source": [
    "mask = df['x1'] > 5\n",
    "df[mask]\n",
    "\n",
    "# Или df[df['x1'] > 5]"
   ]
  },
  {
   "cell_type": "markdown",
   "metadata": {
    "id": "xiPo4TS8bScn"
   },
   "source": [
    "Чтобы получить значения, обратные условию, можно воспользоваться оператором НЕ: `~` - он инвертирует маску условия:"
   ]
  },
  {
   "cell_type": "code",
   "execution_count": 6,
   "metadata": {
    "_cell_id": "omJrza0g6VBbXkD5"
   },
   "outputs": [
    {
     "data": {
      "text/plain": "    x1  x2  x3\n0    1   5   4\n1    5   9   0\n2    2   2   2\n3    3   5   8\n4    3   6   8\n5    1   1   1\n6    5   4   6\n9    0   2   5\n10   0   4   9\n11   5   3   3\n12   3   7   2\n14   0   1   9",
      "text/html": "<div>\n<style scoped>\n    .dataframe tbody tr th:only-of-type {\n        vertical-align: middle;\n    }\n\n    .dataframe tbody tr th {\n        vertical-align: top;\n    }\n\n    .dataframe thead th {\n        text-align: right;\n    }\n</style>\n<table border=\"1\" class=\"dataframe\">\n  <thead>\n    <tr style=\"text-align: right;\">\n      <th></th>\n      <th>x1</th>\n      <th>x2</th>\n      <th>x3</th>\n    </tr>\n  </thead>\n  <tbody>\n    <tr>\n      <th>0</th>\n      <td>1</td>\n      <td>5</td>\n      <td>4</td>\n    </tr>\n    <tr>\n      <th>1</th>\n      <td>5</td>\n      <td>9</td>\n      <td>0</td>\n    </tr>\n    <tr>\n      <th>2</th>\n      <td>2</td>\n      <td>2</td>\n      <td>2</td>\n    </tr>\n    <tr>\n      <th>3</th>\n      <td>3</td>\n      <td>5</td>\n      <td>8</td>\n    </tr>\n    <tr>\n      <th>4</th>\n      <td>3</td>\n      <td>6</td>\n      <td>8</td>\n    </tr>\n    <tr>\n      <th>5</th>\n      <td>1</td>\n      <td>1</td>\n      <td>1</td>\n    </tr>\n    <tr>\n      <th>6</th>\n      <td>5</td>\n      <td>4</td>\n      <td>6</td>\n    </tr>\n    <tr>\n      <th>9</th>\n      <td>0</td>\n      <td>2</td>\n      <td>5</td>\n    </tr>\n    <tr>\n      <th>10</th>\n      <td>0</td>\n      <td>4</td>\n      <td>9</td>\n    </tr>\n    <tr>\n      <th>11</th>\n      <td>5</td>\n      <td>3</td>\n      <td>3</td>\n    </tr>\n    <tr>\n      <th>12</th>\n      <td>3</td>\n      <td>7</td>\n      <td>2</td>\n    </tr>\n    <tr>\n      <th>14</th>\n      <td>0</td>\n      <td>1</td>\n      <td>9</td>\n    </tr>\n  </tbody>\n</table>\n</div>"
     },
     "execution_count": 6,
     "metadata": {},
     "output_type": "execute_result"
    }
   ],
   "source": [
    "df[~(df['x1'] > 5)]"
   ]
  },
  {
   "cell_type": "markdown",
   "metadata": {
    "id": "Ax96PHGlIDnL"
   },
   "source": [
    "> Как и в numpy, для применения нескольких операций необходимо оборачивать каждую в скобки."
   ]
  },
  {
   "cell_type": "markdown",
   "metadata": {
    "id": "nbpi-IeCILB2"
   },
   "source": [
    "### Задание - фильтруем\n",
    "\n",
    "Выберите записи во фрейме, которые по признаку `x1` имеют значение больше 3, а по признаку `x3` - меньше 8."
   ]
  },
  {
   "cell_type": "code",
   "execution_count": 17,
   "metadata": {
    "_cell_id": "wvWD9eXlxA3ZPHjN"
   },
   "outputs": [
    {
     "data": {
      "text/plain": "    x1  x2  x3\n0    9   0   0\n1    0   0   8\n2    8   1   6\n3    4   0   1\n4    9   8   2\n5    8   7   5\n6    7   4   4\n7    7   7   6\n8    4   7   8\n9    5   0   8\n10   1   7   5\n11   8   1   9\n12   9   7   2\n13   6   5   6\n14   7   5   6",
      "text/html": "<div>\n<style scoped>\n    .dataframe tbody tr th:only-of-type {\n        vertical-align: middle;\n    }\n\n    .dataframe tbody tr th {\n        vertical-align: top;\n    }\n\n    .dataframe thead th {\n        text-align: right;\n    }\n</style>\n<table border=\"1\" class=\"dataframe\">\n  <thead>\n    <tr style=\"text-align: right;\">\n      <th></th>\n      <th>x1</th>\n      <th>x2</th>\n      <th>x3</th>\n    </tr>\n  </thead>\n  <tbody>\n    <tr>\n      <th>0</th>\n      <td>9</td>\n      <td>0</td>\n      <td>0</td>\n    </tr>\n    <tr>\n      <th>1</th>\n      <td>0</td>\n      <td>0</td>\n      <td>8</td>\n    </tr>\n    <tr>\n      <th>2</th>\n      <td>8</td>\n      <td>1</td>\n      <td>6</td>\n    </tr>\n    <tr>\n      <th>3</th>\n      <td>4</td>\n      <td>0</td>\n      <td>1</td>\n    </tr>\n    <tr>\n      <th>4</th>\n      <td>9</td>\n      <td>8</td>\n      <td>2</td>\n    </tr>\n    <tr>\n      <th>5</th>\n      <td>8</td>\n      <td>7</td>\n      <td>5</td>\n    </tr>\n    <tr>\n      <th>6</th>\n      <td>7</td>\n      <td>4</td>\n      <td>4</td>\n    </tr>\n    <tr>\n      <th>7</th>\n      <td>7</td>\n      <td>7</td>\n      <td>6</td>\n    </tr>\n    <tr>\n      <th>8</th>\n      <td>4</td>\n      <td>7</td>\n      <td>8</td>\n    </tr>\n    <tr>\n      <th>9</th>\n      <td>5</td>\n      <td>0</td>\n      <td>8</td>\n    </tr>\n    <tr>\n      <th>10</th>\n      <td>1</td>\n      <td>7</td>\n      <td>5</td>\n    </tr>\n    <tr>\n      <th>11</th>\n      <td>8</td>\n      <td>1</td>\n      <td>9</td>\n    </tr>\n    <tr>\n      <th>12</th>\n      <td>9</td>\n      <td>7</td>\n      <td>2</td>\n    </tr>\n    <tr>\n      <th>13</th>\n      <td>6</td>\n      <td>5</td>\n      <td>6</td>\n    </tr>\n    <tr>\n      <th>14</th>\n      <td>7</td>\n      <td>5</td>\n      <td>6</td>\n    </tr>\n  </tbody>\n</table>\n</div>"
     },
     "execution_count": 17,
     "metadata": {},
     "output_type": "execute_result"
    }
   ],
   "source": [
    "df = pd.DataFrame(\n",
    "    data=np.random.randint(0, 10, size=(15, 3)), \n",
    "    columns=['x1', 'x2', 'x3']\n",
    ")\n",
    "df.head(3)"
   ]
  },
  {
   "cell_type": "code",
   "execution_count": 26,
   "metadata": {
    "id": "eDmDbM8nIZeE",
    "_cell_id": "9Ph9XDREyRMvm1ji"
   },
   "outputs": [
    {
     "data": {
      "text/plain": "    x1  x2  x3\n0    9   0   0\n2    8   1   6\n3    4   0   1\n4    9   8   2\n5    8   7   5\n6    7   4   4\n7    7   7   6\n12   9   7   2\n13   6   5   6\n14   7   5   6",
      "text/html": "<div>\n<style scoped>\n    .dataframe tbody tr th:only-of-type {\n        vertical-align: middle;\n    }\n\n    .dataframe tbody tr th {\n        vertical-align: top;\n    }\n\n    .dataframe thead th {\n        text-align: right;\n    }\n</style>\n<table border=\"1\" class=\"dataframe\">\n  <thead>\n    <tr style=\"text-align: right;\">\n      <th></th>\n      <th>x1</th>\n      <th>x2</th>\n      <th>x3</th>\n    </tr>\n  </thead>\n  <tbody>\n    <tr>\n      <th>0</th>\n      <td>9</td>\n      <td>0</td>\n      <td>0</td>\n    </tr>\n    <tr>\n      <th>2</th>\n      <td>8</td>\n      <td>1</td>\n      <td>6</td>\n    </tr>\n    <tr>\n      <th>3</th>\n      <td>4</td>\n      <td>0</td>\n      <td>1</td>\n    </tr>\n    <tr>\n      <th>4</th>\n      <td>9</td>\n      <td>8</td>\n      <td>2</td>\n    </tr>\n    <tr>\n      <th>5</th>\n      <td>8</td>\n      <td>7</td>\n      <td>5</td>\n    </tr>\n    <tr>\n      <th>6</th>\n      <td>7</td>\n      <td>4</td>\n      <td>4</td>\n    </tr>\n    <tr>\n      <th>7</th>\n      <td>7</td>\n      <td>7</td>\n      <td>6</td>\n    </tr>\n    <tr>\n      <th>12</th>\n      <td>9</td>\n      <td>7</td>\n      <td>2</td>\n    </tr>\n    <tr>\n      <th>13</th>\n      <td>6</td>\n      <td>5</td>\n      <td>6</td>\n    </tr>\n    <tr>\n      <th>14</th>\n      <td>7</td>\n      <td>5</td>\n      <td>6</td>\n    </tr>\n  </tbody>\n</table>\n</div>"
     },
     "execution_count": 26,
     "metadata": {},
     "output_type": "execute_result"
    }
   ],
   "source": [
    "# TODO - отфильтровать фрейм по значениям признаков\n",
    "mask = (df[\"x1\"] > 3) & (df[\"x3\"] < 8)\n",
    "df[mask]"
   ]
  },
  {
   "cell_type": "code",
   "execution_count": 52,
   "metadata": {
    "id": "3zHk7Z2SIkra",
    "_cell_id": "j5IQqT6WUKVG6kly"
   },
   "outputs": [
    {
     "data": {
      "text/plain": "   x1  x2\n1   5   1\n2   8   4\n3   4   1\n4   9   9",
      "text/html": "<div>\n<style scoped>\n    .dataframe tbody tr th:only-of-type {\n        vertical-align: middle;\n    }\n\n    .dataframe tbody tr th {\n        vertical-align: top;\n    }\n\n    .dataframe thead th {\n        text-align: right;\n    }\n</style>\n<table border=\"1\" class=\"dataframe\">\n  <thead>\n    <tr style=\"text-align: right;\">\n      <th></th>\n      <th>x1</th>\n      <th>x2</th>\n    </tr>\n  </thead>\n  <tbody>\n    <tr>\n      <th>1</th>\n      <td>5</td>\n      <td>1</td>\n    </tr>\n    <tr>\n      <th>2</th>\n      <td>8</td>\n      <td>4</td>\n    </tr>\n    <tr>\n      <th>3</th>\n      <td>4</td>\n      <td>1</td>\n    </tr>\n    <tr>\n      <th>4</th>\n      <td>9</td>\n      <td>9</td>\n    </tr>\n  </tbody>\n</table>\n</div>"
     },
     "execution_count": 52,
     "metadata": {},
     "output_type": "execute_result"
    }
   ],
   "source": [
    "# TODO - отобразите только колонки x1 и x2 с учетом условий \n",
    "#           (используйте .loc[])\n",
    "# mask = (df.loc[:,\"x1\"] > 3) & (df.loc[:,\"x3\"] < 8)\n",
    "\n",
    "df[mask].loc[:, [\"x1\", \"x2\"]]"
   ]
  },
  {
   "cell_type": "markdown",
   "metadata": {
    "id": "pppYzrYDulwx"
   },
   "source": [
    "### Задание - еще фильтрации\n",
    "\n",
    "С помощью метода `DataFrame.query()` получите записи, которые соответсвуют условию сравнения колонок $x1 > x3$:"
   ]
  },
  {
   "cell_type": "code",
   "execution_count": 48,
   "metadata": {
    "colab": {
     "base_uri": "https://localhost:8080/",
     "height": 248
    },
    "executionInfo": {
     "elapsed": 4148,
     "status": "ok",
     "timestamp": 1598976560758,
     "user": {
      "displayName": "Алексей Девяткин",
      "photoUrl": "",
      "userId": "11945040185410340858"
     },
     "user_tz": -180
    },
    "id": "WqFcnjEEuzBq",
    "outputId": "a9cbe5a2-7050-425b-f8c3-28473b6f0768",
    "_cell_id": "RVADwWBdvReoDuMT"
   },
   "outputs": [
    {
     "data": {
      "text/plain": "   x1  x2  x3\n0   1   2   6\n1   5   1   1\n2   8   4   6\n3   4   1   1\n4   9   9   0\n5  -1   2   1\n6   5   5   5",
      "text/html": "<div>\n<style scoped>\n    .dataframe tbody tr th:only-of-type {\n        vertical-align: middle;\n    }\n\n    .dataframe tbody tr th {\n        vertical-align: top;\n    }\n\n    .dataframe thead th {\n        text-align: right;\n    }\n</style>\n<table border=\"1\" class=\"dataframe\">\n  <thead>\n    <tr style=\"text-align: right;\">\n      <th></th>\n      <th>x1</th>\n      <th>x2</th>\n      <th>x3</th>\n    </tr>\n  </thead>\n  <tbody>\n    <tr>\n      <th>0</th>\n      <td>1</td>\n      <td>2</td>\n      <td>6</td>\n    </tr>\n    <tr>\n      <th>1</th>\n      <td>5</td>\n      <td>1</td>\n      <td>1</td>\n    </tr>\n    <tr>\n      <th>2</th>\n      <td>8</td>\n      <td>4</td>\n      <td>6</td>\n    </tr>\n    <tr>\n      <th>3</th>\n      <td>4</td>\n      <td>1</td>\n      <td>1</td>\n    </tr>\n    <tr>\n      <th>4</th>\n      <td>9</td>\n      <td>9</td>\n      <td>0</td>\n    </tr>\n    <tr>\n      <th>5</th>\n      <td>-1</td>\n      <td>2</td>\n      <td>1</td>\n    </tr>\n    <tr>\n      <th>6</th>\n      <td>5</td>\n      <td>5</td>\n      <td>5</td>\n    </tr>\n  </tbody>\n</table>\n</div>"
     },
     "execution_count": 48,
     "metadata": {},
     "output_type": "execute_result"
    }
   ],
   "source": [
    "df = pd.DataFrame(\n",
    "    [[1, 2, 6], [5, 1, 1], [8, 4, 6], [4, 1, 1], [9, 9, 0], [-1, 2, 1], [5, 5, 5]],\n",
    "    columns = ['x1', 'x2', 'x3']\n",
    ")\n",
    "df"
   ]
  },
  {
   "cell_type": "code",
   "execution_count": 49,
   "metadata": {
    "id": "y4CjO3YfvFXq",
    "_cell_id": "QEvt6fBnkhrIZfu8"
   },
   "outputs": [
    {
     "data": {
      "text/plain": "   x1  x2  x3\n1   5   1   1\n2   8   4   6\n3   4   1   1\n4   9   9   0",
      "text/html": "<div>\n<style scoped>\n    .dataframe tbody tr th:only-of-type {\n        vertical-align: middle;\n    }\n\n    .dataframe tbody tr th {\n        vertical-align: top;\n    }\n\n    .dataframe thead th {\n        text-align: right;\n    }\n</style>\n<table border=\"1\" class=\"dataframe\">\n  <thead>\n    <tr style=\"text-align: right;\">\n      <th></th>\n      <th>x1</th>\n      <th>x2</th>\n      <th>x3</th>\n    </tr>\n  </thead>\n  <tbody>\n    <tr>\n      <th>1</th>\n      <td>5</td>\n      <td>1</td>\n      <td>1</td>\n    </tr>\n    <tr>\n      <th>2</th>\n      <td>8</td>\n      <td>4</td>\n      <td>6</td>\n    </tr>\n    <tr>\n      <th>3</th>\n      <td>4</td>\n      <td>1</td>\n      <td>1</td>\n    </tr>\n    <tr>\n      <th>4</th>\n      <td>9</td>\n      <td>9</td>\n      <td>0</td>\n    </tr>\n  </tbody>\n</table>\n</div>"
     },
     "execution_count": 49,
     "metadata": {},
     "output_type": "execute_result"
    }
   ],
   "source": [
    "# TODO - Методом DataFrame.query() получить записи, удовлетворяющие условию\n",
    "#           x1 > x3\n",
    "df.query(\"x1 > x3\")"
   ]
  },
  {
   "cell_type": "code",
   "execution_count": 51,
   "metadata": {
    "id": "A4nFNejgvSAN",
    "_cell_id": "9l0ZLMQ9JrH6ND1i"
   },
   "outputs": [
    {
     "data": {
      "text/plain": "   x1  x2  x3\n1   5   1   1\n2   8   4   6\n3   4   1   1\n4   9   9   0",
      "text/html": "<div>\n<style scoped>\n    .dataframe tbody tr th:only-of-type {\n        vertical-align: middle;\n    }\n\n    .dataframe tbody tr th {\n        vertical-align: top;\n    }\n\n    .dataframe thead th {\n        text-align: right;\n    }\n</style>\n<table border=\"1\" class=\"dataframe\">\n  <thead>\n    <tr style=\"text-align: right;\">\n      <th></th>\n      <th>x1</th>\n      <th>x2</th>\n      <th>x3</th>\n    </tr>\n  </thead>\n  <tbody>\n    <tr>\n      <th>1</th>\n      <td>5</td>\n      <td>1</td>\n      <td>1</td>\n    </tr>\n    <tr>\n      <th>2</th>\n      <td>8</td>\n      <td>4</td>\n      <td>6</td>\n    </tr>\n    <tr>\n      <th>3</th>\n      <td>4</td>\n      <td>1</td>\n      <td>1</td>\n    </tr>\n    <tr>\n      <th>4</th>\n      <td>9</td>\n      <td>9</td>\n      <td>0</td>\n    </tr>\n  </tbody>\n</table>\n</div>"
     },
     "execution_count": 51,
     "metadata": {},
     "output_type": "execute_result"
    }
   ],
   "source": [
    "# TODO - Сделать аналогичное действие, но уже с помощью условной индексации\n",
    "mask = df.loc[:,\"x1\"] > df.loc[:,\"x3\"]\n",
    "df[mask]"
   ]
  },
  {
   "cell_type": "markdown",
   "metadata": {
    "id": "9nLi9I9k1lT4"
   },
   "source": [
    "## Операции с рядами / Новые колонки"
   ]
  },
  {
   "cell_type": "markdown",
   "metadata": {
    "id": "pUqSlAwi17k1"
   },
   "source": [
    "Работа с фреймами и рядами данных в pandas поддерживает многие операции по аналогии с работой в numpy."
   ]
  },
  {
   "cell_type": "code",
   "execution_count": 53,
   "metadata": {
    "colab": {
     "base_uri": "https://localhost:8080/",
     "height": 133
    },
    "executionInfo": {
     "elapsed": 4023,
     "status": "ok",
     "timestamp": 1598976560764,
     "user": {
      "displayName": "Алексей Девяткин",
      "photoUrl": "",
      "userId": "11945040185410340858"
     },
     "user_tz": -180
    },
    "id": "xxdg5abT22ZJ",
    "outputId": "fc11f1a8-40c9-4548-801a-99d0edc35c07",
    "_cell_id": "Tz46UzUDK7aFsxT1"
   },
   "outputs": [
    {
     "data": {
      "text/plain": "   x1  x2  x3\n0   6   2   1\n1   4   3   9\n2   8   5   4",
      "text/html": "<div>\n<style scoped>\n    .dataframe tbody tr th:only-of-type {\n        vertical-align: middle;\n    }\n\n    .dataframe tbody tr th {\n        vertical-align: top;\n    }\n\n    .dataframe thead th {\n        text-align: right;\n    }\n</style>\n<table border=\"1\" class=\"dataframe\">\n  <thead>\n    <tr style=\"text-align: right;\">\n      <th></th>\n      <th>x1</th>\n      <th>x2</th>\n      <th>x3</th>\n    </tr>\n  </thead>\n  <tbody>\n    <tr>\n      <th>0</th>\n      <td>6</td>\n      <td>2</td>\n      <td>1</td>\n    </tr>\n    <tr>\n      <th>1</th>\n      <td>4</td>\n      <td>3</td>\n      <td>9</td>\n    </tr>\n    <tr>\n      <th>2</th>\n      <td>8</td>\n      <td>5</td>\n      <td>4</td>\n    </tr>\n  </tbody>\n</table>\n</div>"
     },
     "execution_count": 53,
     "metadata": {},
     "output_type": "execute_result"
    }
   ],
   "source": [
    "df = pd.DataFrame(\n",
    "    data=np.random.randint(0, 10, size=(15, 3)), \n",
    "    columns=['x1', 'x2', 'x3']\n",
    ")\n",
    "df.head(3)"
   ]
  },
  {
   "cell_type": "code",
   "execution_count": 54,
   "metadata": {
    "colab": {
     "base_uri": "https://localhost:8080/",
     "height": 133
    },
    "executionInfo": {
     "elapsed": 3996,
     "status": "ok",
     "timestamp": 1598976560765,
     "user": {
      "displayName": "Алексей Девяткин",
      "photoUrl": "",
      "userId": "11945040185410340858"
     },
     "user_tz": -180
    },
    "id": "DBbdLqIv3DAG",
    "outputId": "bef7b94e-75ad-4ed4-bd3c-550f2ed2b905",
    "_cell_id": "QqZeEiFioPOi9QkK"
   },
   "outputs": [
    {
     "data": {
      "text/plain": "   x1  x2  x3  x1+x2\n0   6   2   1      8\n1   4   3   9      7\n2   8   5   4     13",
      "text/html": "<div>\n<style scoped>\n    .dataframe tbody tr th:only-of-type {\n        vertical-align: middle;\n    }\n\n    .dataframe tbody tr th {\n        vertical-align: top;\n    }\n\n    .dataframe thead th {\n        text-align: right;\n    }\n</style>\n<table border=\"1\" class=\"dataframe\">\n  <thead>\n    <tr style=\"text-align: right;\">\n      <th></th>\n      <th>x1</th>\n      <th>x2</th>\n      <th>x3</th>\n      <th>x1+x2</th>\n    </tr>\n  </thead>\n  <tbody>\n    <tr>\n      <th>0</th>\n      <td>6</td>\n      <td>2</td>\n      <td>1</td>\n      <td>8</td>\n    </tr>\n    <tr>\n      <th>1</th>\n      <td>4</td>\n      <td>3</td>\n      <td>9</td>\n      <td>7</td>\n    </tr>\n    <tr>\n      <th>2</th>\n      <td>8</td>\n      <td>5</td>\n      <td>4</td>\n      <td>13</td>\n    </tr>\n  </tbody>\n</table>\n</div>"
     },
     "execution_count": 54,
     "metadata": {},
     "output_type": "execute_result"
    }
   ],
   "source": [
    "# Создать новую колонку можно по аналогии с новым ключём в словаре\n",
    "# Сложение нескольких Series и запись в новую колонку\n",
    "df['x1+x2'] = df['x1'] + df['x2']\n",
    "df.head(3)"
   ]
  },
  {
   "cell_type": "code",
   "execution_count": 55,
   "metadata": {
    "colab": {
     "base_uri": "https://localhost:8080/",
     "height": 133
    },
    "executionInfo": {
     "elapsed": 3969,
     "status": "ok",
     "timestamp": 1598976560766,
     "user": {
      "displayName": "Алексей Девяткин",
      "photoUrl": "",
      "userId": "11945040185410340858"
     },
     "user_tz": -180
    },
    "id": "YHsGI82a32Dy",
    "outputId": "3bf41a99-5507-49b0-a310-ffb48895495a",
    "_cell_id": "zSDu4flZ0fOjahoc"
   },
   "outputs": [
    {
     "data": {
      "text/plain": "   x1  x2  x3  x1+x2  x1*x3\n0   6   2   1      8      6\n1   4   3   9      7     36\n2   8   5   4     13     32",
      "text/html": "<div>\n<style scoped>\n    .dataframe tbody tr th:only-of-type {\n        vertical-align: middle;\n    }\n\n    .dataframe tbody tr th {\n        vertical-align: top;\n    }\n\n    .dataframe thead th {\n        text-align: right;\n    }\n</style>\n<table border=\"1\" class=\"dataframe\">\n  <thead>\n    <tr style=\"text-align: right;\">\n      <th></th>\n      <th>x1</th>\n      <th>x2</th>\n      <th>x3</th>\n      <th>x1+x2</th>\n      <th>x1*x3</th>\n    </tr>\n  </thead>\n  <tbody>\n    <tr>\n      <th>0</th>\n      <td>6</td>\n      <td>2</td>\n      <td>1</td>\n      <td>8</td>\n      <td>6</td>\n    </tr>\n    <tr>\n      <th>1</th>\n      <td>4</td>\n      <td>3</td>\n      <td>9</td>\n      <td>7</td>\n      <td>36</td>\n    </tr>\n    <tr>\n      <th>2</th>\n      <td>8</td>\n      <td>5</td>\n      <td>4</td>\n      <td>13</td>\n      <td>32</td>\n    </tr>\n  </tbody>\n</table>\n</div>"
     },
     "execution_count": 55,
     "metadata": {},
     "output_type": "execute_result"
    }
   ],
   "source": [
    "# Поэлементное умножение\n",
    "df['x1*x3'] = df['x1'] * df['x3']\n",
    "df.head(3)"
   ]
  },
  {
   "cell_type": "code",
   "execution_count": 56,
   "metadata": {
    "colab": {
     "base_uri": "https://localhost:8080/",
     "height": 33
    },
    "executionInfo": {
     "elapsed": 3942,
     "status": "ok",
     "timestamp": 1598976560767,
     "user": {
      "displayName": "Алексей Девяткин",
      "photoUrl": "",
      "userId": "11945040185410340858"
     },
     "user_tz": -180
    },
    "id": "2WLH7E1_37Zd",
    "outputId": "ed49cafe-3606-4433-c4fa-84a17e9322c9",
    "_cell_id": "E9dwNOeU0MXmB9vk"
   },
   "outputs": [
    {
     "data": {
      "text/plain": "4.933333333333334"
     },
     "execution_count": 56,
     "metadata": {},
     "output_type": "execute_result"
    }
   ],
   "source": [
    "# Взятие среднего по колонке (метод Series.mean())\n",
    "df['x1'].mean()"
   ]
  },
  {
   "cell_type": "code",
   "execution_count": 57,
   "metadata": {
    "colab": {
     "base_uri": "https://localhost:8080/",
     "height": 133
    },
    "executionInfo": {
     "elapsed": 3913,
     "status": "ok",
     "timestamp": 1598976560769,
     "user": {
      "displayName": "Алексей Девяткин",
      "photoUrl": "",
      "userId": "11945040185410340858"
     },
     "user_tz": -180
    },
    "id": "okj2LQ8a4X0c",
    "outputId": "6a106f4a-8024-49c3-ffbe-d3f7260045c9",
    "_cell_id": "khbD51V9lK79jOnU"
   },
   "outputs": [
    {
     "data": {
      "text/plain": "   x1  x2  x3  x1+x2  x1*x3      x2_exp\n0   6   2   1      8      6    7.389056\n1   4   3   9      7     36   20.085537\n2   8   5   4     13     32  148.413159",
      "text/html": "<div>\n<style scoped>\n    .dataframe tbody tr th:only-of-type {\n        vertical-align: middle;\n    }\n\n    .dataframe tbody tr th {\n        vertical-align: top;\n    }\n\n    .dataframe thead th {\n        text-align: right;\n    }\n</style>\n<table border=\"1\" class=\"dataframe\">\n  <thead>\n    <tr style=\"text-align: right;\">\n      <th></th>\n      <th>x1</th>\n      <th>x2</th>\n      <th>x3</th>\n      <th>x1+x2</th>\n      <th>x1*x3</th>\n      <th>x2_exp</th>\n    </tr>\n  </thead>\n  <tbody>\n    <tr>\n      <th>0</th>\n      <td>6</td>\n      <td>2</td>\n      <td>1</td>\n      <td>8</td>\n      <td>6</td>\n      <td>7.389056</td>\n    </tr>\n    <tr>\n      <th>1</th>\n      <td>4</td>\n      <td>3</td>\n      <td>9</td>\n      <td>7</td>\n      <td>36</td>\n      <td>20.085537</td>\n    </tr>\n    <tr>\n      <th>2</th>\n      <td>8</td>\n      <td>5</td>\n      <td>4</td>\n      <td>13</td>\n      <td>32</td>\n      <td>148.413159</td>\n    </tr>\n  </tbody>\n</table>\n</div>"
     },
     "execution_count": 57,
     "metadata": {},
     "output_type": "execute_result"
    }
   ],
   "source": [
    "# Использование функций numpy для работы с колонками\n",
    "df['x2_exp'] = np.exp(df['x2'])\n",
    "df.head(3)"
   ]
  },
  {
   "cell_type": "markdown",
   "metadata": {
    "id": "lGfjIyV14wC8"
   },
   "source": [
    "Как вы заметили, ряды (это же одномерные массивы) можно обрабатывать:\n",
    "- операциями Python;\n",
    "- методами класса Series;\n",
    "- функциями numpy.\n",
    "\n",
    "> Для создания новой колонки достаточно просто задать имя новой колонки и записать ряд данных (может быть даже одномерным массивом numpy), который имеет такой же размер, куда пишется."
   ]
  },
  {
   "cell_type": "markdown",
   "metadata": {
    "id": "5RF8V86g-JMk"
   },
   "source": [
    "Для случая, если нужной функции нет, то можно создать свою с помощью метода `Series.apply()`, которой передаётся название функции для применения над всем рядом."
   ]
  },
  {
   "cell_type": "code",
   "execution_count": 58,
   "metadata": {
    "colab": {
     "base_uri": "https://localhost:8080/",
     "height": 133
    },
    "executionInfo": {
     "elapsed": 3886,
     "status": "ok",
     "timestamp": 1598976560770,
     "user": {
      "displayName": "Алексей Девяткин",
      "photoUrl": "",
      "userId": "11945040185410340858"
     },
     "user_tz": -180
    },
    "id": "a1hhrKsn-pSy",
    "outputId": "88cd6fba-29ce-4b3b-e678-cd1632b25866",
    "_cell_id": "XLwNTbWclFhGhAM8"
   },
   "outputs": [
    {
     "data": {
      "text/plain": "   x1  x2  x3\n0   6   2   8\n1   0   4   6\n2   4   4   0",
      "text/html": "<div>\n<style scoped>\n    .dataframe tbody tr th:only-of-type {\n        vertical-align: middle;\n    }\n\n    .dataframe tbody tr th {\n        vertical-align: top;\n    }\n\n    .dataframe thead th {\n        text-align: right;\n    }\n</style>\n<table border=\"1\" class=\"dataframe\">\n  <thead>\n    <tr style=\"text-align: right;\">\n      <th></th>\n      <th>x1</th>\n      <th>x2</th>\n      <th>x3</th>\n    </tr>\n  </thead>\n  <tbody>\n    <tr>\n      <th>0</th>\n      <td>6</td>\n      <td>2</td>\n      <td>8</td>\n    </tr>\n    <tr>\n      <th>1</th>\n      <td>0</td>\n      <td>4</td>\n      <td>6</td>\n    </tr>\n    <tr>\n      <th>2</th>\n      <td>4</td>\n      <td>4</td>\n      <td>0</td>\n    </tr>\n  </tbody>\n</table>\n</div>"
     },
     "execution_count": 58,
     "metadata": {},
     "output_type": "execute_result"
    }
   ],
   "source": [
    "df = pd.DataFrame(\n",
    "    data=np.random.randint(0, 10, size=(3, 3)), \n",
    "    columns=['x1', 'x2', 'x3']\n",
    ")\n",
    "df"
   ]
  },
  {
   "cell_type": "code",
   "execution_count": 59,
   "metadata": {
    "colab": {
     "base_uri": "https://localhost:8080/",
     "height": 231
    },
    "executionInfo": {
     "elapsed": 3863,
     "status": "ok",
     "timestamp": 1598976560771,
     "user": {
      "displayName": "Алексей Девяткин",
      "photoUrl": "",
      "userId": "11945040185410340858"
     },
     "user_tz": -180
    },
    "id": "Cl1cdYh5_Bsu",
    "outputId": "f1997eb9-c60b-464d-889c-8e98b01ae0a6",
    "_cell_id": "k5tjwLcdc2gIijec"
   },
   "outputs": [
    {
     "name": "stdout",
     "output_type": "stream",
     "text": [
      "<class 'int'>\n",
      "6\n",
      "<class 'int'>\n",
      "0\n",
      "<class 'int'>\n",
      "4\n"
     ]
    },
    {
     "data": {
      "text/plain": "   x1  x2  x3  result\n0   6   2   8      12\n1   0   4   6       0\n2   4   4   0       8",
      "text/html": "<div>\n<style scoped>\n    .dataframe tbody tr th:only-of-type {\n        vertical-align: middle;\n    }\n\n    .dataframe tbody tr th {\n        vertical-align: top;\n    }\n\n    .dataframe thead th {\n        text-align: right;\n    }\n</style>\n<table border=\"1\" class=\"dataframe\">\n  <thead>\n    <tr style=\"text-align: right;\">\n      <th></th>\n      <th>x1</th>\n      <th>x2</th>\n      <th>x3</th>\n      <th>result</th>\n    </tr>\n  </thead>\n  <tbody>\n    <tr>\n      <th>0</th>\n      <td>6</td>\n      <td>2</td>\n      <td>8</td>\n      <td>12</td>\n    </tr>\n    <tr>\n      <th>1</th>\n      <td>0</td>\n      <td>4</td>\n      <td>6</td>\n      <td>0</td>\n    </tr>\n    <tr>\n      <th>2</th>\n      <td>4</td>\n      <td>4</td>\n      <td>0</td>\n      <td>8</td>\n    </tr>\n  </tbody>\n</table>\n</div>"
     },
     "execution_count": 59,
     "metadata": {},
     "output_type": "execute_result"
    }
   ],
   "source": [
    "# Обязательно требование к функции - один аргумент\n",
    "# Эта функция будет передана в apply() и pandas\n",
    "#   будет вызывать ее и передавать в нее \n",
    "#   по одному элементу из ряда\n",
    "# Возвращать функция должна результат операции над элементом\n",
    "def my_func(x):\n",
    "    print(type(x))\n",
    "    print(x)\n",
    "    return x*2\n",
    "\n",
    "df['result'] = df['x1'].apply(my_func)\n",
    "df"
   ]
  },
  {
   "cell_type": "markdown",
   "metadata": {
    "id": "EiCkYETi_LOr"
   },
   "source": [
    "Как видно, в функцию передается каждый элемент в ряду, тип элемента соответсвует типу колонки. Результат метода `.apply()` - новый ряд с примененной функцией."
   ]
  },
  {
   "cell_type": "markdown",
   "metadata": {
    "id": "cL0aNoDx6hmU"
   },
   "source": [
    "## Операции с фреймами"
   ]
  },
  {
   "cell_type": "markdown",
   "metadata": {
    "id": "CIiispWG6s-N"
   },
   "source": [
    "### Переименование колонок / индексов"
   ]
  },
  {
   "cell_type": "markdown",
   "metadata": {
    "id": "X82Dz47d5vym"
   },
   "source": [
    "Одной из полезных функций является возможность переименования имён колонок. Для этого имеется метод `DataFrame.rename()`:"
   ]
  },
  {
   "cell_type": "code",
   "execution_count": 60,
   "metadata": {
    "colab": {
     "base_uri": "https://localhost:8080/",
     "height": 133
    },
    "executionInfo": {
     "elapsed": 3841,
     "status": "ok",
     "timestamp": 1598976560772,
     "user": {
      "displayName": "Алексей Девяткин",
      "photoUrl": "",
      "userId": "11945040185410340858"
     },
     "user_tz": -180
    },
    "id": "r5a3F6Dw56dr",
    "outputId": "0a36f52e-e3a8-45d4-8da4-dedb6f6546f9",
    "_cell_id": "ASQLA05dVwVNDRGh"
   },
   "outputs": [
    {
     "data": {
      "text/plain": "   x1  x2  x3\n0   9   8   5\n1   4   5   6\n2   4   0   9",
      "text/html": "<div>\n<style scoped>\n    .dataframe tbody tr th:only-of-type {\n        vertical-align: middle;\n    }\n\n    .dataframe tbody tr th {\n        vertical-align: top;\n    }\n\n    .dataframe thead th {\n        text-align: right;\n    }\n</style>\n<table border=\"1\" class=\"dataframe\">\n  <thead>\n    <tr style=\"text-align: right;\">\n      <th></th>\n      <th>x1</th>\n      <th>x2</th>\n      <th>x3</th>\n    </tr>\n  </thead>\n  <tbody>\n    <tr>\n      <th>0</th>\n      <td>9</td>\n      <td>8</td>\n      <td>5</td>\n    </tr>\n    <tr>\n      <th>1</th>\n      <td>4</td>\n      <td>5</td>\n      <td>6</td>\n    </tr>\n    <tr>\n      <th>2</th>\n      <td>4</td>\n      <td>0</td>\n      <td>9</td>\n    </tr>\n  </tbody>\n</table>\n</div>"
     },
     "execution_count": 60,
     "metadata": {},
     "output_type": "execute_result"
    }
   ],
   "source": [
    "df = pd.DataFrame(\n",
    "    data=np.random.randint(0, 10, size=(15, 3)), \n",
    "    columns=['x1', 'x2', 'x3']\n",
    ")\n",
    "df.head(3)"
   ]
  },
  {
   "cell_type": "code",
   "execution_count": 61,
   "metadata": {
    "colab": {
     "base_uri": "https://localhost:8080/",
     "height": 133
    },
    "executionInfo": {
     "elapsed": 3819,
     "status": "ok",
     "timestamp": 1598976560772,
     "user": {
      "displayName": "Алексей Девяткин",
      "photoUrl": "",
      "userId": "11945040185410340858"
     },
     "user_tz": -180
    },
    "id": "fWw_Wo_D59FT",
    "outputId": "070ec6e6-4532-4990-9476-e55bab4e2b86",
    "_cell_id": "qsABHet5TnNxGx60"
   },
   "outputs": [
    {
     "data": {
      "text/plain": "   new_name_for_x1  x2  that_not_x3\n0                9   8            5\n1                4   5            6\n2                4   0            9",
      "text/html": "<div>\n<style scoped>\n    .dataframe tbody tr th:only-of-type {\n        vertical-align: middle;\n    }\n\n    .dataframe tbody tr th {\n        vertical-align: top;\n    }\n\n    .dataframe thead th {\n        text-align: right;\n    }\n</style>\n<table border=\"1\" class=\"dataframe\">\n  <thead>\n    <tr style=\"text-align: right;\">\n      <th></th>\n      <th>new_name_for_x1</th>\n      <th>x2</th>\n      <th>that_not_x3</th>\n    </tr>\n  </thead>\n  <tbody>\n    <tr>\n      <th>0</th>\n      <td>9</td>\n      <td>8</td>\n      <td>5</td>\n    </tr>\n    <tr>\n      <th>1</th>\n      <td>4</td>\n      <td>5</td>\n      <td>6</td>\n    </tr>\n    <tr>\n      <th>2</th>\n      <td>4</td>\n      <td>0</td>\n      <td>9</td>\n    </tr>\n  </tbody>\n</table>\n</div>"
     },
     "execution_count": 61,
     "metadata": {},
     "output_type": "execute_result"
    }
   ],
   "source": [
    "# Методу передается в аргумент columns словарь, \n",
    "#   в котором ключи - имена колонок,\n",
    "#   значения - новые имена для переименования\n",
    "df.rename(\n",
    "    columns={\n",
    "        'x1': 'new_name_for_x1',\n",
    "        'x3': 'that_not_x3' \n",
    "    },\n",
    "    inplace=True\n",
    ")\n",
    "df.head(3)"
   ]
  },
  {
   "cell_type": "markdown",
   "metadata": {
    "id": "3GP6Mkby6mIb"
   },
   "source": [
    "> Аргумент `inplace` является достаточно распространённым в методах фреймов. Этот аргумент управляет тем, как произвести операцию: прямо в этом объекте (при установленном True) или вернуть результатом новый фрейм с произведенной операцией (при установленном False).\n",
    "\n",
    "Для сравнения аналогичный код без `inplace` выглядел бы так:\n",
    "```python\n",
    "df_renamed = df.rename(columns={\n",
    "    'x1': 'new_name_for_x1',\n",
    "    'x3': 'that_not_x3'\n",
    "})\n",
    "df_renamed\n",
    "```"
   ]
  },
  {
   "cell_type": "markdown",
   "metadata": {
    "id": "Pn5PWfi18Nn1"
   },
   "source": [
    "Для переименования индексов (названий записей) используется тот же принцип, но словарь передаётся в аргумент `index` с ключами - исходными названиями индексов, значениями - новыми значениями."
   ]
  },
  {
   "cell_type": "markdown",
   "metadata": {
    "id": "ZJ0GeWkG8qqc"
   },
   "source": [
    "#### Задание - новые имена\n",
    "\n",
    "Переименуйте индексы и колонки во фрейме"
   ]
  },
  {
   "cell_type": "code",
   "execution_count": 62,
   "metadata": {
    "colab": {
     "base_uri": "https://localhost:8080/",
     "height": 191
    },
    "executionInfo": {
     "elapsed": 3800,
     "status": "ok",
     "timestamp": 1598976560774,
     "user": {
      "displayName": "Алексей Девяткин",
      "photoUrl": "",
      "userId": "11945040185410340858"
     },
     "user_tz": -180
    },
    "id": "8ItPTn_887Sc",
    "outputId": "5dcfd0ff-fd57-457a-f8e5-e279d677d3b3",
    "_cell_id": "1Bdi0w7O3pB2ZyHb"
   },
   "outputs": [
    {
     "data": {
      "text/plain": "   x1  x2  x3\nA   5   2   2\nB   5   4   2\nC   6   5   9\nD   4   4   8\nE   2   3   7",
      "text/html": "<div>\n<style scoped>\n    .dataframe tbody tr th:only-of-type {\n        vertical-align: middle;\n    }\n\n    .dataframe tbody tr th {\n        vertical-align: top;\n    }\n\n    .dataframe thead th {\n        text-align: right;\n    }\n</style>\n<table border=\"1\" class=\"dataframe\">\n  <thead>\n    <tr style=\"text-align: right;\">\n      <th></th>\n      <th>x1</th>\n      <th>x2</th>\n      <th>x3</th>\n    </tr>\n  </thead>\n  <tbody>\n    <tr>\n      <th>A</th>\n      <td>5</td>\n      <td>2</td>\n      <td>2</td>\n    </tr>\n    <tr>\n      <th>B</th>\n      <td>5</td>\n      <td>4</td>\n      <td>2</td>\n    </tr>\n    <tr>\n      <th>C</th>\n      <td>6</td>\n      <td>5</td>\n      <td>9</td>\n    </tr>\n    <tr>\n      <th>D</th>\n      <td>4</td>\n      <td>4</td>\n      <td>8</td>\n    </tr>\n    <tr>\n      <th>E</th>\n      <td>2</td>\n      <td>3</td>\n      <td>7</td>\n    </tr>\n  </tbody>\n</table>\n</div>"
     },
     "execution_count": 62,
     "metadata": {},
     "output_type": "execute_result"
    }
   ],
   "source": [
    "df = pd.DataFrame(\n",
    "    data=np.random.randint(0, 10, size=(5, 3)), \n",
    "    index=['A', 'B', 'C', 'D', 'E'], \n",
    "    columns=['x1', 'x2', 'x3']\n",
    ")\n",
    "df"
   ]
  },
  {
   "cell_type": "code",
   "execution_count": 63,
   "metadata": {
    "id": "wHgJGm0A9Jib",
    "_cell_id": "9DviDMiQRWW8il0a"
   },
   "outputs": [
    {
     "data": {
      "text/plain": "      new1  x2  new3\nindA     5   2     2\nB        5   4     2\nindC     6   5     9\nD        4   4     8\nE        2   3     7",
      "text/html": "<div>\n<style scoped>\n    .dataframe tbody tr th:only-of-type {\n        vertical-align: middle;\n    }\n\n    .dataframe tbody tr th {\n        vertical-align: top;\n    }\n\n    .dataframe thead th {\n        text-align: right;\n    }\n</style>\n<table border=\"1\" class=\"dataframe\">\n  <thead>\n    <tr style=\"text-align: right;\">\n      <th></th>\n      <th>new1</th>\n      <th>x2</th>\n      <th>new3</th>\n    </tr>\n  </thead>\n  <tbody>\n    <tr>\n      <th>indA</th>\n      <td>5</td>\n      <td>2</td>\n      <td>2</td>\n    </tr>\n    <tr>\n      <th>B</th>\n      <td>5</td>\n      <td>4</td>\n      <td>2</td>\n    </tr>\n    <tr>\n      <th>indC</th>\n      <td>6</td>\n      <td>5</td>\n      <td>9</td>\n    </tr>\n    <tr>\n      <th>D</th>\n      <td>4</td>\n      <td>4</td>\n      <td>8</td>\n    </tr>\n    <tr>\n      <th>E</th>\n      <td>2</td>\n      <td>3</td>\n      <td>7</td>\n    </tr>\n  </tbody>\n</table>\n</div>"
     },
     "execution_count": 63,
     "metadata": {},
     "output_type": "execute_result"
    }
   ],
   "source": [
    "# TODO - переименуйте индексы [A, C] -> [indA, indC] \n",
    "#           и колонки [x1, x3] -> [new1, new3]\n",
    "df.rename(\n",
    "    columns={\n",
    "        \"x1\": \"new1\",\n",
    "        \"x3\": \"new3\"\n",
    "    },\n",
    "    index={\n",
    "        \"A\": \"indA\",\n",
    "        \"C\": \"indC\"\n",
    "    },\n",
    "    inplace=True\n",
    ")\n",
    "df"
   ]
  },
  {
   "cell_type": "markdown",
   "metadata": {
    "id": "PIxEiYeA7fCT"
   },
   "source": [
    "### Удаление колонок / строк\n",
    "\n",
    "Данную операцию можно произвести двумя способами:\n",
    "\n",
    "1. Выбрать колонки, которые необходимо оставить, простой индексацией;\n",
    "\n",
    "2. Метод `DataFrame.drop()`."
   ]
  },
  {
   "cell_type": "code",
   "execution_count": 64,
   "metadata": {
    "colab": {
     "base_uri": "https://localhost:8080/",
     "height": 133
    },
    "executionInfo": {
     "elapsed": 4132,
     "status": "ok",
     "timestamp": 1598976561167,
     "user": {
      "displayName": "Алексей Девяткин",
      "photoUrl": "",
      "userId": "11945040185410340858"
     },
     "user_tz": -180
    },
    "id": "614A8LHV7t7d",
    "outputId": "c54fb73a-2695-4c16-9b7b-4b9976b5ce92",
    "_cell_id": "Z6AhwVFwv1yCou3S"
   },
   "outputs": [
    {
     "data": {
      "text/plain": "   x1  x2  x3\n0   2   3   9\n1   8   1   7\n2   2   7   6",
      "text/html": "<div>\n<style scoped>\n    .dataframe tbody tr th:only-of-type {\n        vertical-align: middle;\n    }\n\n    .dataframe tbody tr th {\n        vertical-align: top;\n    }\n\n    .dataframe thead th {\n        text-align: right;\n    }\n</style>\n<table border=\"1\" class=\"dataframe\">\n  <thead>\n    <tr style=\"text-align: right;\">\n      <th></th>\n      <th>x1</th>\n      <th>x2</th>\n      <th>x3</th>\n    </tr>\n  </thead>\n  <tbody>\n    <tr>\n      <th>0</th>\n      <td>2</td>\n      <td>3</td>\n      <td>9</td>\n    </tr>\n    <tr>\n      <th>1</th>\n      <td>8</td>\n      <td>1</td>\n      <td>7</td>\n    </tr>\n    <tr>\n      <th>2</th>\n      <td>2</td>\n      <td>7</td>\n      <td>6</td>\n    </tr>\n  </tbody>\n</table>\n</div>"
     },
     "execution_count": 64,
     "metadata": {},
     "output_type": "execute_result"
    }
   ],
   "source": [
    "df = pd.DataFrame(\n",
    "    data=np.random.randint(0, 10, size=(15, 3)), \n",
    "    columns=['x1', 'x2', 'x3']\n",
    ")\n",
    "df.head(3)"
   ]
  },
  {
   "cell_type": "code",
   "execution_count": 65,
   "metadata": {
    "colab": {
     "base_uri": "https://localhost:8080/",
     "height": 133
    },
    "executionInfo": {
     "elapsed": 4113,
     "status": "ok",
     "timestamp": 1598976561168,
     "user": {
      "displayName": "Алексей Девяткин",
      "photoUrl": "",
      "userId": "11945040185410340858"
     },
     "user_tz": -180
    },
    "id": "RpIHpNdd94Sl",
    "outputId": "64bb9cd5-22e5-4a7e-89d6-8168c8e98ff1",
    "_cell_id": "UUHVIi1P7f0ScHQP"
   },
   "outputs": [
    {
     "data": {
      "text/plain": "   x1  x3\n0   2   9\n1   8   7\n2   2   6",
      "text/html": "<div>\n<style scoped>\n    .dataframe tbody tr th:only-of-type {\n        vertical-align: middle;\n    }\n\n    .dataframe tbody tr th {\n        vertical-align: top;\n    }\n\n    .dataframe thead th {\n        text-align: right;\n    }\n</style>\n<table border=\"1\" class=\"dataframe\">\n  <thead>\n    <tr style=\"text-align: right;\">\n      <th></th>\n      <th>x1</th>\n      <th>x3</th>\n    </tr>\n  </thead>\n  <tbody>\n    <tr>\n      <th>0</th>\n      <td>2</td>\n      <td>9</td>\n    </tr>\n    <tr>\n      <th>1</th>\n      <td>8</td>\n      <td>7</td>\n    </tr>\n    <tr>\n      <th>2</th>\n      <td>2</td>\n      <td>6</td>\n    </tr>\n  </tbody>\n</table>\n</div>"
     },
     "execution_count": 65,
     "metadata": {},
     "output_type": "execute_result"
    }
   ],
   "source": [
    "df.drop(columns=['x2'], inplace=True)\n",
    "df.head(3)"
   ]
  },
  {
   "cell_type": "markdown",
   "metadata": {
    "id": "2jgzUMWxJO6N"
   },
   "source": [
    "### Определение количества NaN"
   ]
  },
  {
   "cell_type": "markdown",
   "metadata": {
    "id": "ymvbguTYJUhn"
   },
   "source": [
    "В данных часто бывают пропуски (NaN), при этом на первых этапах анализа важно понять их количество по каждому признаку. Для этого можно воспользоваться методом `DataFrame.isna()`, который создаст двумерный булевый фрейм, отвечающий на вопрос \"является ли значение NaN?\". После этого над всем фреймом можно применить метод `DataFrame.sum()`, который вернет ряд (Series) с количеством элементов True в булевом фрейме (элементов NaN в основном фрейме). \n",
    "\n",
    "Кодировка \"пустых значений\" в исходном файле обычно показывается либо константой с неподходящим значением (например -1 для возраста), либо пропуском."
   ]
  },
  {
   "cell_type": "code",
   "execution_count": 74,
   "metadata": {
    "colab": {
     "base_uri": "https://localhost:8080/",
     "height": 191
    },
    "executionInfo": {
     "elapsed": 4090,
     "status": "ok",
     "timestamp": 1598976561169,
     "user": {
      "displayName": "Алексей Девяткин",
      "photoUrl": "",
      "userId": "11945040185410340858"
     },
     "user_tz": -180
    },
    "id": "u6ySClv7KEUo",
    "outputId": "da5866f4-cc7c-4a99-e25a-4b69965071d7",
    "_cell_id": "EraTrMeXINgykJyS"
   },
   "outputs": [
    {
     "data": {
      "text/plain": "    x1   x2   x3\n0  NaN  NaN  7.0\n1  1.0  7.0  1.0\n2  3.0  NaN  NaN\n3  2.0  0.0  8.0\n4  7.0  3.0  5.0",
      "text/html": "<div>\n<style scoped>\n    .dataframe tbody tr th:only-of-type {\n        vertical-align: middle;\n    }\n\n    .dataframe tbody tr th {\n        vertical-align: top;\n    }\n\n    .dataframe thead th {\n        text-align: right;\n    }\n</style>\n<table border=\"1\" class=\"dataframe\">\n  <thead>\n    <tr style=\"text-align: right;\">\n      <th></th>\n      <th>x1</th>\n      <th>x2</th>\n      <th>x3</th>\n    </tr>\n  </thead>\n  <tbody>\n    <tr>\n      <th>0</th>\n      <td>NaN</td>\n      <td>NaN</td>\n      <td>7.0</td>\n    </tr>\n    <tr>\n      <th>1</th>\n      <td>1.0</td>\n      <td>7.0</td>\n      <td>1.0</td>\n    </tr>\n    <tr>\n      <th>2</th>\n      <td>3.0</td>\n      <td>NaN</td>\n      <td>NaN</td>\n    </tr>\n    <tr>\n      <th>3</th>\n      <td>2.0</td>\n      <td>0.0</td>\n      <td>8.0</td>\n    </tr>\n    <tr>\n      <th>4</th>\n      <td>7.0</td>\n      <td>3.0</td>\n      <td>5.0</td>\n    </tr>\n  </tbody>\n</table>\n</div>"
     },
     "execution_count": 74,
     "metadata": {},
     "output_type": "execute_result"
    }
   ],
   "source": [
    "df = pd.DataFrame(\n",
    "    data=np.random.randint(0, 10, size=(5, 3)), \n",
    "    columns=['x1', 'x2', 'x3']\n",
    ")\n",
    "df.iloc[0, :2] = np.nan\n",
    "df.iloc[2, 1:] = np.nan\n",
    "\n",
    "df"
   ]
  },
  {
   "cell_type": "code",
   "execution_count": 69,
   "metadata": {
    "colab": {
     "base_uri": "https://localhost:8080/",
     "height": 191
    },
    "executionInfo": {
     "elapsed": 4070,
     "status": "ok",
     "timestamp": 1598976561171,
     "user": {
      "displayName": "Алексей Девяткин",
      "photoUrl": "",
      "userId": "11945040185410340858"
     },
     "user_tz": -180
    },
    "id": "OYFxtfNQKRkq",
    "outputId": "f8d88e90-cf80-4ee3-b0b5-1f382314d66b",
    "_cell_id": "Fbch5Yxhmw5JqjJK"
   },
   "outputs": [
    {
     "data": {
      "text/plain": "      x1     x2     x3\n0   True   True  False\n1  False  False  False\n2  False   True   True\n3  False  False  False\n4  False  False  False",
      "text/html": "<div>\n<style scoped>\n    .dataframe tbody tr th:only-of-type {\n        vertical-align: middle;\n    }\n\n    .dataframe tbody tr th {\n        vertical-align: top;\n    }\n\n    .dataframe thead th {\n        text-align: right;\n    }\n</style>\n<table border=\"1\" class=\"dataframe\">\n  <thead>\n    <tr style=\"text-align: right;\">\n      <th></th>\n      <th>x1</th>\n      <th>x2</th>\n      <th>x3</th>\n    </tr>\n  </thead>\n  <tbody>\n    <tr>\n      <th>0</th>\n      <td>True</td>\n      <td>True</td>\n      <td>False</td>\n    </tr>\n    <tr>\n      <th>1</th>\n      <td>False</td>\n      <td>False</td>\n      <td>False</td>\n    </tr>\n    <tr>\n      <th>2</th>\n      <td>False</td>\n      <td>True</td>\n      <td>True</td>\n    </tr>\n    <tr>\n      <th>3</th>\n      <td>False</td>\n      <td>False</td>\n      <td>False</td>\n    </tr>\n    <tr>\n      <th>4</th>\n      <td>False</td>\n      <td>False</td>\n      <td>False</td>\n    </tr>\n  </tbody>\n</table>\n</div>"
     },
     "execution_count": 69,
     "metadata": {},
     "output_type": "execute_result"
    }
   ],
   "source": [
    "df.isna()"
   ]
  },
  {
   "cell_type": "code",
   "execution_count": 70,
   "metadata": {
    "colab": {
     "base_uri": "https://localhost:8080/",
     "height": 82
    },
    "executionInfo": {
     "elapsed": 4051,
     "status": "ok",
     "timestamp": 1598976561172,
     "user": {
      "displayName": "Алексей Девяткин",
      "photoUrl": "",
      "userId": "11945040185410340858"
     },
     "user_tz": -180
    },
    "id": "FMmdpRcUKTsT",
    "outputId": "9249a042-bee6-483f-d1dd-aa2b9409f55f",
    "_cell_id": "li7Ufz34S97aEnPK"
   },
   "outputs": [
    {
     "data": {
      "text/plain": "x1    1\nx2    2\nx3    1\ndtype: int64"
     },
     "execution_count": 70,
     "metadata": {},
     "output_type": "execute_result"
    }
   ],
   "source": [
    "df.isna().sum()"
   ]
  },
  {
   "cell_type": "markdown",
   "metadata": {
    "id": "DE4eBYciLiHc"
   },
   "source": [
    "### Заполнение пустых значений"
   ]
  },
  {
   "cell_type": "markdown",
   "metadata": {
    "id": "159PGj1jLkeX"
   },
   "source": [
    "Техники заполнения пустых значений имеют разнообразное представление, но одним из простых методов является заполнение константой. Для этого ряд данных имеет метод `Series.fillna()`, в который можно передать значение и вместо NaN элементов будет поставлена константа, указанная в аргументах."
   ]
  },
  {
   "cell_type": "code",
   "execution_count": 71,
   "metadata": {
    "colab": {
     "base_uri": "https://localhost:8080/",
     "height": 191
    },
    "executionInfo": {
     "elapsed": 4030,
     "status": "ok",
     "timestamp": 1598976561173,
     "user": {
      "displayName": "Алексей Девяткин",
      "photoUrl": "",
      "userId": "11945040185410340858"
     },
     "user_tz": -180
    },
    "id": "rVrv2pvGL7FT",
    "outputId": "bb5413d2-3f16-415f-f221-d49342756e35",
    "_cell_id": "5tJxPbjUiwcwgzIS"
   },
   "outputs": [
    {
     "data": {
      "text/plain": "    x1   x2   x3\n0  NaN  NaN  6.0\n1  5.0  7.0  0.0\n2  9.0  NaN  NaN\n3  1.0  8.0  1.0\n4  4.0  6.0  2.0",
      "text/html": "<div>\n<style scoped>\n    .dataframe tbody tr th:only-of-type {\n        vertical-align: middle;\n    }\n\n    .dataframe tbody tr th {\n        vertical-align: top;\n    }\n\n    .dataframe thead th {\n        text-align: right;\n    }\n</style>\n<table border=\"1\" class=\"dataframe\">\n  <thead>\n    <tr style=\"text-align: right;\">\n      <th></th>\n      <th>x1</th>\n      <th>x2</th>\n      <th>x3</th>\n    </tr>\n  </thead>\n  <tbody>\n    <tr>\n      <th>0</th>\n      <td>NaN</td>\n      <td>NaN</td>\n      <td>6.0</td>\n    </tr>\n    <tr>\n      <th>1</th>\n      <td>5.0</td>\n      <td>7.0</td>\n      <td>0.0</td>\n    </tr>\n    <tr>\n      <th>2</th>\n      <td>9.0</td>\n      <td>NaN</td>\n      <td>NaN</td>\n    </tr>\n    <tr>\n      <th>3</th>\n      <td>1.0</td>\n      <td>8.0</td>\n      <td>1.0</td>\n    </tr>\n    <tr>\n      <th>4</th>\n      <td>4.0</td>\n      <td>6.0</td>\n      <td>2.0</td>\n    </tr>\n  </tbody>\n</table>\n</div>"
     },
     "execution_count": 71,
     "metadata": {},
     "output_type": "execute_result"
    }
   ],
   "source": [
    "df"
   ]
  },
  {
   "cell_type": "code",
   "execution_count": 75,
   "metadata": {
    "colab": {
     "base_uri": "https://localhost:8080/",
     "height": 191
    },
    "executionInfo": {
     "elapsed": 4010,
     "status": "ok",
     "timestamp": 1598976561174,
     "user": {
      "displayName": "Алексей Девяткин",
      "photoUrl": "",
      "userId": "11945040185410340858"
     },
     "user_tz": -180
    },
    "id": "CNEGPZRnL9Ji",
    "outputId": "20697ffd-7601-48a6-bd57-6f163922daeb",
    "_cell_id": "8PfQgMXAoHVfEbF4"
   },
   "outputs": [
    {
     "data": {
      "text/plain": "    x1   x2   x3\n0  NaN  3.0  7.0\n1  1.0  7.0  1.0\n2  3.0  3.0  NaN\n3  2.0  0.0  8.0\n4  7.0  3.0  5.0",
      "text/html": "<div>\n<style scoped>\n    .dataframe tbody tr th:only-of-type {\n        vertical-align: middle;\n    }\n\n    .dataframe tbody tr th {\n        vertical-align: top;\n    }\n\n    .dataframe thead th {\n        text-align: right;\n    }\n</style>\n<table border=\"1\" class=\"dataframe\">\n  <thead>\n    <tr style=\"text-align: right;\">\n      <th></th>\n      <th>x1</th>\n      <th>x2</th>\n      <th>x3</th>\n    </tr>\n  </thead>\n  <tbody>\n    <tr>\n      <th>0</th>\n      <td>NaN</td>\n      <td>3.0</td>\n      <td>7.0</td>\n    </tr>\n    <tr>\n      <th>1</th>\n      <td>1.0</td>\n      <td>7.0</td>\n      <td>1.0</td>\n    </tr>\n    <tr>\n      <th>2</th>\n      <td>3.0</td>\n      <td>3.0</td>\n      <td>NaN</td>\n    </tr>\n    <tr>\n      <th>3</th>\n      <td>2.0</td>\n      <td>0.0</td>\n      <td>8.0</td>\n    </tr>\n    <tr>\n      <th>4</th>\n      <td>7.0</td>\n      <td>3.0</td>\n      <td>5.0</td>\n    </tr>\n  </tbody>\n</table>\n</div>"
     },
     "execution_count": 75,
     "metadata": {},
     "output_type": "execute_result"
    }
   ],
   "source": [
    "df['x2'].fillna(3, inplace=True)\n",
    "df"
   ]
  },
  {
   "cell_type": "markdown",
   "metadata": {
    "id": "qMLVYwcAsjv8"
   },
   "source": [
    "### Информация об уникальных значениях"
   ]
  },
  {
   "cell_type": "markdown",
   "metadata": {
    "id": "CA1B55wAson8"
   },
   "source": [
    "При работе с категориальными данными полезна информация об уникальных значениях признака, поэтому важно понимать, как проверить их количество:"
   ]
  },
  {
   "cell_type": "code",
   "execution_count": 76,
   "metadata": {
    "colab": {
     "base_uri": "https://localhost:8080/",
     "height": 335
    },
    "executionInfo": {
     "elapsed": 3991,
     "status": "ok",
     "timestamp": 1598976561175,
     "user": {
      "displayName": "Алексей Девяткин",
      "photoUrl": "",
      "userId": "11945040185410340858"
     },
     "user_tz": -180
    },
    "id": "ipzBgmO-soWq",
    "outputId": "86bef91a-9d46-4e2f-e3e2-e02ecee915e5",
    "_cell_id": "gYPKE7SESV6wdUJ9"
   },
   "outputs": [
    {
     "data": {
      "text/plain": "   col1  col2\n0  high     0\n1  high     1\n2   low     1\n3   med     2\n4   low     3\n5   low     1\n6   med     1\n7   low     2\n8   low     2\n9  high     2",
      "text/html": "<div>\n<style scoped>\n    .dataframe tbody tr th:only-of-type {\n        vertical-align: middle;\n    }\n\n    .dataframe tbody tr th {\n        vertical-align: top;\n    }\n\n    .dataframe thead th {\n        text-align: right;\n    }\n</style>\n<table border=\"1\" class=\"dataframe\">\n  <thead>\n    <tr style=\"text-align: right;\">\n      <th></th>\n      <th>col1</th>\n      <th>col2</th>\n    </tr>\n  </thead>\n  <tbody>\n    <tr>\n      <th>0</th>\n      <td>high</td>\n      <td>0</td>\n    </tr>\n    <tr>\n      <th>1</th>\n      <td>high</td>\n      <td>1</td>\n    </tr>\n    <tr>\n      <th>2</th>\n      <td>low</td>\n      <td>1</td>\n    </tr>\n    <tr>\n      <th>3</th>\n      <td>med</td>\n      <td>2</td>\n    </tr>\n    <tr>\n      <th>4</th>\n      <td>low</td>\n      <td>3</td>\n    </tr>\n    <tr>\n      <th>5</th>\n      <td>low</td>\n      <td>1</td>\n    </tr>\n    <tr>\n      <th>6</th>\n      <td>med</td>\n      <td>1</td>\n    </tr>\n    <tr>\n      <th>7</th>\n      <td>low</td>\n      <td>2</td>\n    </tr>\n    <tr>\n      <th>8</th>\n      <td>low</td>\n      <td>2</td>\n    </tr>\n    <tr>\n      <th>9</th>\n      <td>high</td>\n      <td>2</td>\n    </tr>\n  </tbody>\n</table>\n</div>"
     },
     "execution_count": 76,
     "metadata": {},
     "output_type": "execute_result"
    }
   ],
   "source": [
    "df = pd.DataFrame({\n",
    "    'col1': ['high', 'high', 'low', 'med', 'low', 'low', 'med', 'low', 'low', 'high'],\n",
    "    'col2': [0, 1, 1, 2, 3, 1, 1, 2, 2, 2]\n",
    "})\n",
    "df"
   ]
  },
  {
   "cell_type": "code",
   "execution_count": 77,
   "metadata": {
    "colab": {
     "base_uri": "https://localhost:8080/",
     "height": 66
    },
    "executionInfo": {
     "elapsed": 3969,
     "status": "ok",
     "timestamp": 1598976561176,
     "user": {
      "displayName": "Алексей Девяткин",
      "photoUrl": "",
      "userId": "11945040185410340858"
     },
     "user_tz": -180
    },
    "id": "GQZBjAektbHR",
    "outputId": "6c0bdd8a-5a8a-4bf2-ea1c-f4dc4d6fdd2f",
    "_cell_id": "JvRTY3U6kgoJbG80"
   },
   "outputs": [
    {
     "data": {
      "text/plain": "col1    3\ncol2    4\ndtype: int64"
     },
     "execution_count": 77,
     "metadata": {},
     "output_type": "execute_result"
    }
   ],
   "source": [
    "# Метод DataFrame.nunique() позволяет вывести \n",
    "#   количество уникальных значений в каждой колонке\n",
    "# Результат - Series с индексами - названиями колонок\n",
    "df.nunique()"
   ]
  },
  {
   "cell_type": "code",
   "execution_count": 80,
   "metadata": {
    "colab": {
     "base_uri": "https://localhost:8080/",
     "height": 82
    },
    "executionInfo": {
     "elapsed": 3947,
     "status": "ok",
     "timestamp": 1598976561178,
     "user": {
      "displayName": "Алексей Девяткин",
      "photoUrl": "",
      "userId": "11945040185410340858"
     },
     "user_tz": -180
    },
    "id": "w2Ffo-nHtvaq",
    "outputId": "8c81713f-a9ec-4878-a054-15a14c92cad5",
    "_cell_id": "w4pox5yQPNNi3X1u"
   },
   "outputs": [
    {
     "data": {
      "text/plain": "low     5\nhigh    3\nmed     2\nName: col1, dtype: int64"
     },
     "execution_count": 80,
     "metadata": {},
     "output_type": "execute_result"
    }
   ],
   "source": [
    "# Метод Series.value_counts() показывает уникальные значения в ряду\n",
    "#   и указывает их количество\n",
    "df['col1'].value_counts()"
   ]
  },
  {
   "cell_type": "code",
   "execution_count": 81,
   "metadata": {
    "colab": {
     "base_uri": "https://localhost:8080/",
     "height": 98
    },
    "executionInfo": {
     "elapsed": 3926,
     "status": "ok",
     "timestamp": 1598976561179,
     "user": {
      "displayName": "Алексей Девяткин",
      "photoUrl": "",
      "userId": "11945040185410340858"
     },
     "user_tz": -180
    },
    "id": "5IQjN3OCt7Hs",
    "outputId": "fed326c2-0e63-4fd9-b6ab-29251fc082ea",
    "_cell_id": "bYR8FTZ6pN4UAC3k"
   },
   "outputs": [
    {
     "data": {
      "text/plain": "1    4\n2    4\n0    1\n3    1\nName: col2, dtype: int64"
     },
     "execution_count": 81,
     "metadata": {},
     "output_type": "execute_result"
    }
   ],
   "source": [
    "# Результат - Series с индексами - уникальными значениями\n",
    "df['col2'].value_counts()"
   ]
  },
  {
   "cell_type": "markdown",
   "metadata": {
    "id": "7u9_i7LXTuHm"
   },
   "source": [
    "### Фильтрация"
   ]
  },
  {
   "cell_type": "markdown",
   "metadata": {
    "id": "uosoHO-Sokh8"
   },
   "source": [
    "Метод `DataFrame.filter()` позволяет отфильтровать и выбрать только те колонки/записи, котрые соответствуют условию, заданному в аргументах:"
   ]
  },
  {
   "cell_type": "code",
   "execution_count": 82,
   "metadata": {
    "colab": {
     "base_uri": "https://localhost:8080/",
     "height": 105
    },
    "executionInfo": {
     "elapsed": 4200,
     "status": "ok",
     "timestamp": 1598976561476,
     "user": {
      "displayName": "Алексей Девяткин",
      "photoUrl": "",
      "userId": "11945040185410340858"
     },
     "user_tz": -180
    },
    "id": "rzgkdyi0opus",
    "outputId": "c6653e1b-7a9f-4f5f-857a-cd572bb7c503",
    "_cell_id": "lDWrpfZbnQsTc5x8"
   },
   "outputs": [
    {
     "data": {
      "text/plain": "        col_one  col_two  col_three\nmouse         1        2          3\nrabbit        4        5          6",
      "text/html": "<div>\n<style scoped>\n    .dataframe tbody tr th:only-of-type {\n        vertical-align: middle;\n    }\n\n    .dataframe tbody tr th {\n        vertical-align: top;\n    }\n\n    .dataframe thead th {\n        text-align: right;\n    }\n</style>\n<table border=\"1\" class=\"dataframe\">\n  <thead>\n    <tr style=\"text-align: right;\">\n      <th></th>\n      <th>col_one</th>\n      <th>col_two</th>\n      <th>col_three</th>\n    </tr>\n  </thead>\n  <tbody>\n    <tr>\n      <th>mouse</th>\n      <td>1</td>\n      <td>2</td>\n      <td>3</td>\n    </tr>\n    <tr>\n      <th>rabbit</th>\n      <td>4</td>\n      <td>5</td>\n      <td>6</td>\n    </tr>\n  </tbody>\n</table>\n</div>"
     },
     "execution_count": 82,
     "metadata": {},
     "output_type": "execute_result"
    }
   ],
   "source": [
    "df = pd.DataFrame(np.array(([1, 2, 3], [4, 5, 6])),\n",
    "                  index=['mouse', 'rabbit'],\n",
    "                  columns=['col_one', 'col_two', 'col_three'])\n",
    "df"
   ]
  },
  {
   "cell_type": "code",
   "execution_count": 83,
   "metadata": {
    "colab": {
     "base_uri": "https://localhost:8080/",
     "height": 105
    },
    "executionInfo": {
     "elapsed": 4180,
     "status": "ok",
     "timestamp": 1598976561477,
     "user": {
      "displayName": "Алексей Девяткин",
      "photoUrl": "",
      "userId": "11945040185410340858"
     },
     "user_tz": -180
    },
    "id": "vYYUgNBRottW",
    "outputId": "306561f6-233e-4fd9-b04b-b0ea74e5e43c",
    "_cell_id": "KwaNMN2Xv4t8MOwo"
   },
   "outputs": [
    {
     "data": {
      "text/plain": "        col_one  col_three\nmouse         1          3\nrabbit        4          6",
      "text/html": "<div>\n<style scoped>\n    .dataframe tbody tr th:only-of-type {\n        vertical-align: middle;\n    }\n\n    .dataframe tbody tr th {\n        vertical-align: top;\n    }\n\n    .dataframe thead th {\n        text-align: right;\n    }\n</style>\n<table border=\"1\" class=\"dataframe\">\n  <thead>\n    <tr style=\"text-align: right;\">\n      <th></th>\n      <th>col_one</th>\n      <th>col_three</th>\n    </tr>\n  </thead>\n  <tbody>\n    <tr>\n      <th>mouse</th>\n      <td>1</td>\n      <td>3</td>\n    </tr>\n    <tr>\n      <th>rabbit</th>\n      <td>4</td>\n      <td>6</td>\n    </tr>\n  </tbody>\n</table>\n</div>"
     },
     "execution_count": 83,
     "metadata": {},
     "output_type": "execute_result"
    }
   ],
   "source": [
    "# Отфильтровать по именам колонок\n",
    "# Аналогично df[['col_one', 'col_three']]\n",
    "df.filter(items=['col_one', 'col_three'], axis='columns')"
   ]
  },
  {
   "cell_type": "code",
   "execution_count": 84,
   "metadata": {
    "colab": {
     "base_uri": "https://localhost:8080/",
     "height": 105
    },
    "executionInfo": {
     "elapsed": 4159,
     "status": "ok",
     "timestamp": 1598976561478,
     "user": {
      "displayName": "Алексей Девяткин",
      "photoUrl": "",
      "userId": "11945040185410340858"
     },
     "user_tz": -180
    },
    "id": "a6ofBx49pYSq",
    "outputId": "7a725c8b-fb17-495c-9491-3eaca9ed9531",
    "_cell_id": "1YEdqMWugyI8levc"
   },
   "outputs": [
    {
     "data": {
      "text/plain": "        col_two\nmouse         2\nrabbit        5",
      "text/html": "<div>\n<style scoped>\n    .dataframe tbody tr th:only-of-type {\n        vertical-align: middle;\n    }\n\n    .dataframe tbody tr th {\n        vertical-align: top;\n    }\n\n    .dataframe thead th {\n        text-align: right;\n    }\n</style>\n<table border=\"1\" class=\"dataframe\">\n  <thead>\n    <tr style=\"text-align: right;\">\n      <th></th>\n      <th>col_two</th>\n    </tr>\n  </thead>\n  <tbody>\n    <tr>\n      <th>mouse</th>\n      <td>2</td>\n    </tr>\n    <tr>\n      <th>rabbit</th>\n      <td>5</td>\n    </tr>\n  </tbody>\n</table>\n</div>"
     },
     "execution_count": 84,
     "metadata": {},
     "output_type": "execute_result"
    }
   ],
   "source": [
    "# Отфильтровать по регулярному выражению\n",
    "# Оставить только те колонки, которые оканчиваются на букву \"o\"\n",
    "df.filter(regex='o$', axis='columns')"
   ]
  },
  {
   "cell_type": "markdown",
   "metadata": {},
   "source": [
    "#### Задание - и еще пофильтруем\n",
    "\n",
    "Отфильруйте записи по строке, содержащейся в имени индекса (аргумент `like`):"
   ]
  },
  {
   "cell_type": "code",
   "execution_count": 85,
   "metadata": {
    "colab": {
     "base_uri": "https://localhost:8080/",
     "height": 133
    },
    "executionInfo": {
     "elapsed": 4141,
     "status": "ok",
     "timestamp": 1598976561479,
     "user": {
      "displayName": "Алексей Девяткин",
      "photoUrl": "",
      "userId": "11945040185410340858"
     },
     "user_tz": -180
    },
    "id": "bpguGOH1p6Ju",
    "outputId": "a1f031ea-4912-4313-999e-3df0f0a8fe4c",
    "_cell_id": "0pFIP4bxZOrZYfV2"
   },
   "outputs": [
    {
     "data": {
      "text/plain": "              x1  x2  x3\ndog in house   1   2   3\ncat in house   4   5   6\npig in farm    7   8   9",
      "text/html": "<div>\n<style scoped>\n    .dataframe tbody tr th:only-of-type {\n        vertical-align: middle;\n    }\n\n    .dataframe tbody tr th {\n        vertical-align: top;\n    }\n\n    .dataframe thead th {\n        text-align: right;\n    }\n</style>\n<table border=\"1\" class=\"dataframe\">\n  <thead>\n    <tr style=\"text-align: right;\">\n      <th></th>\n      <th>x1</th>\n      <th>x2</th>\n      <th>x3</th>\n    </tr>\n  </thead>\n  <tbody>\n    <tr>\n      <th>dog in house</th>\n      <td>1</td>\n      <td>2</td>\n      <td>3</td>\n    </tr>\n    <tr>\n      <th>cat in house</th>\n      <td>4</td>\n      <td>5</td>\n      <td>6</td>\n    </tr>\n    <tr>\n      <th>pig in farm</th>\n      <td>7</td>\n      <td>8</td>\n      <td>9</td>\n    </tr>\n  </tbody>\n</table>\n</div>"
     },
     "execution_count": 85,
     "metadata": {},
     "output_type": "execute_result"
    }
   ],
   "source": [
    "df = pd.DataFrame(np.array(([1, 2, 3], [4, 5, 6], [7, 8, 9])),\n",
    "                  index=['dog in house', 'cat in house', 'pig in farm'],\n",
    "                  columns=['x1', 'x2', 'x3'])\n",
    "df"
   ]
  },
  {
   "cell_type": "code",
   "execution_count": 86,
   "metadata": {
    "id": "-yGYrEPCqJMl",
    "_cell_id": "3syPU8Y7N2LfAeGa"
   },
   "outputs": [
    {
     "data": {
      "text/plain": "              x1  x2  x3\ndog in house   1   2   3\ncat in house   4   5   6",
      "text/html": "<div>\n<style scoped>\n    .dataframe tbody tr th:only-of-type {\n        vertical-align: middle;\n    }\n\n    .dataframe tbody tr th {\n        vertical-align: top;\n    }\n\n    .dataframe thead th {\n        text-align: right;\n    }\n</style>\n<table border=\"1\" class=\"dataframe\">\n  <thead>\n    <tr style=\"text-align: right;\">\n      <th></th>\n      <th>x1</th>\n      <th>x2</th>\n      <th>x3</th>\n    </tr>\n  </thead>\n  <tbody>\n    <tr>\n      <th>dog in house</th>\n      <td>1</td>\n      <td>2</td>\n      <td>3</td>\n    </tr>\n    <tr>\n      <th>cat in house</th>\n      <td>4</td>\n      <td>5</td>\n      <td>6</td>\n    </tr>\n  </tbody>\n</table>\n</div>"
     },
     "execution_count": 86,
     "metadata": {},
     "output_type": "execute_result"
    }
   ],
   "source": [
    "# TODO - отфильтруйте по записям, должны остаться записи, \n",
    "#           индекс которых содержит слово \"house\"\n",
    "df.filter(regex=r\"house\", axis=\"index\")\n"
   ]
  },
  {
   "cell_type": "markdown",
   "metadata": {
    "id": "b-YLfI7_T--K"
   },
   "source": [
    "### Сортировка"
   ]
  },
  {
   "cell_type": "markdown",
   "metadata": {
    "id": "cRGU2oQcqiAD"
   },
   "source": [
    "Всегда полезно знать, как отсортировать данные, для этого мы воспользуемся методом `DataFrame.sort_values()`:"
   ]
  },
  {
   "cell_type": "code",
   "execution_count": 87,
   "metadata": {
    "colab": {
     "base_uri": "https://localhost:8080/",
     "height": 220
    },
    "executionInfo": {
     "elapsed": 4092,
     "status": "ok",
     "timestamp": 1598976561482,
     "user": {
      "displayName": "Алексей Девяткин",
      "photoUrl": "",
      "userId": "11945040185410340858"
     },
     "user_tz": -180
    },
    "id": "-7UkJ8_nq6vQ",
    "outputId": "470e12c5-2f44-4f2f-88d7-5d92209dfc82",
    "_cell_id": "3peG9LfBQeIMKQJC"
   },
   "outputs": [
    {
     "data": {
      "text/plain": "  col1  col2  col3 col4\nA    A     2     0    a\nB    A     1     1    B\nC    B     9     9    c\nD  NaN     8     4    D\nE    D     7     2    e\nF    C     4     3    F",
      "text/html": "<div>\n<style scoped>\n    .dataframe tbody tr th:only-of-type {\n        vertical-align: middle;\n    }\n\n    .dataframe tbody tr th {\n        vertical-align: top;\n    }\n\n    .dataframe thead th {\n        text-align: right;\n    }\n</style>\n<table border=\"1\" class=\"dataframe\">\n  <thead>\n    <tr style=\"text-align: right;\">\n      <th></th>\n      <th>col1</th>\n      <th>col2</th>\n      <th>col3</th>\n      <th>col4</th>\n    </tr>\n  </thead>\n  <tbody>\n    <tr>\n      <th>A</th>\n      <td>A</td>\n      <td>2</td>\n      <td>0</td>\n      <td>a</td>\n    </tr>\n    <tr>\n      <th>B</th>\n      <td>A</td>\n      <td>1</td>\n      <td>1</td>\n      <td>B</td>\n    </tr>\n    <tr>\n      <th>C</th>\n      <td>B</td>\n      <td>9</td>\n      <td>9</td>\n      <td>c</td>\n    </tr>\n    <tr>\n      <th>D</th>\n      <td>NaN</td>\n      <td>8</td>\n      <td>4</td>\n      <td>D</td>\n    </tr>\n    <tr>\n      <th>E</th>\n      <td>D</td>\n      <td>7</td>\n      <td>2</td>\n      <td>e</td>\n    </tr>\n    <tr>\n      <th>F</th>\n      <td>C</td>\n      <td>4</td>\n      <td>3</td>\n      <td>F</td>\n    </tr>\n  </tbody>\n</table>\n</div>"
     },
     "execution_count": 87,
     "metadata": {},
     "output_type": "execute_result"
    }
   ],
   "source": [
    "df = pd.DataFrame({\n",
    "    'col1': ['A', 'A', 'B', np.nan, 'D', 'C'],\n",
    "    'col2': [2, 1, 9, 8, 7, 4],\n",
    "    'col3': [0, 1, 9, 4, 2, 3],\n",
    "    'col4': ['a', 'B', 'c', 'D', 'e', 'F']\n",
    "}, index=['A', 'B', 'C', 'D', 'E', 'F'])\n",
    "df"
   ]
  },
  {
   "cell_type": "code",
   "execution_count": 88,
   "metadata": {
    "colab": {
     "base_uri": "https://localhost:8080/",
     "height": 220
    },
    "executionInfo": {
     "elapsed": 4076,
     "status": "ok",
     "timestamp": 1598976561483,
     "user": {
      "displayName": "Алексей Девяткин",
      "photoUrl": "",
      "userId": "11945040185410340858"
     },
     "user_tz": -180
    },
    "id": "RDgqmbx0rEUl",
    "outputId": "1e71f016-4ad3-4fdd-dc02-ab1fea441e0f",
    "_cell_id": "2HScDF5S2npQiTpY"
   },
   "outputs": [
    {
     "data": {
      "text/plain": "  col1  col2  col3 col4\nB    A     1     1    B\nA    A     2     0    a\nF    C     4     3    F\nE    D     7     2    e\nD  NaN     8     4    D\nC    B     9     9    c",
      "text/html": "<div>\n<style scoped>\n    .dataframe tbody tr th:only-of-type {\n        vertical-align: middle;\n    }\n\n    .dataframe tbody tr th {\n        vertical-align: top;\n    }\n\n    .dataframe thead th {\n        text-align: right;\n    }\n</style>\n<table border=\"1\" class=\"dataframe\">\n  <thead>\n    <tr style=\"text-align: right;\">\n      <th></th>\n      <th>col1</th>\n      <th>col2</th>\n      <th>col3</th>\n      <th>col4</th>\n    </tr>\n  </thead>\n  <tbody>\n    <tr>\n      <th>B</th>\n      <td>A</td>\n      <td>1</td>\n      <td>1</td>\n      <td>B</td>\n    </tr>\n    <tr>\n      <th>A</th>\n      <td>A</td>\n      <td>2</td>\n      <td>0</td>\n      <td>a</td>\n    </tr>\n    <tr>\n      <th>F</th>\n      <td>C</td>\n      <td>4</td>\n      <td>3</td>\n      <td>F</td>\n    </tr>\n    <tr>\n      <th>E</th>\n      <td>D</td>\n      <td>7</td>\n      <td>2</td>\n      <td>e</td>\n    </tr>\n    <tr>\n      <th>D</th>\n      <td>NaN</td>\n      <td>8</td>\n      <td>4</td>\n      <td>D</td>\n    </tr>\n    <tr>\n      <th>C</th>\n      <td>B</td>\n      <td>9</td>\n      <td>9</td>\n      <td>c</td>\n    </tr>\n  </tbody>\n</table>\n</div>"
     },
     "execution_count": 88,
     "metadata": {},
     "output_type": "execute_result"
    }
   ],
   "source": [
    "# Отсортируем записи колонки col2\n",
    "# Именно поэтому в axis ставится rows, так как\n",
    "#   операция производится в колонке по каждому ряду\n",
    "df.sort_values(by='col2', axis='rows')"
   ]
  },
  {
   "cell_type": "markdown",
   "metadata": {
    "id": "yLlPKSRArVGN"
   },
   "source": [
    "#### Задание - снова сортируем\n",
    "\n",
    "Отсортируйте данные:"
   ]
  },
  {
   "cell_type": "code",
   "execution_count": 89,
   "metadata": {
    "colab": {
     "base_uri": "https://localhost:8080/",
     "height": 191
    },
    "executionInfo": {
     "elapsed": 4055,
     "status": "ok",
     "timestamp": 1598976561484,
     "user": {
      "displayName": "Алексей Девяткин",
      "photoUrl": "",
      "userId": "11945040185410340858"
     },
     "user_tz": -180
    },
    "id": "5t5K1QlBr00d",
    "outputId": "a49339c4-61d8-42c6-eeb7-770d9d71d601",
    "_cell_id": "hQzkCxpBtiSin6Et"
   },
   "outputs": [
    {
     "data": {
      "text/plain": "   col1  col2  col3  col4  col5\n0     3     4     2    13    15\n1     1     2    12    18    12\n2     7    10     7     0    12\n3     9    14    14     1    15\n4     9    10    17     1     4",
      "text/html": "<div>\n<style scoped>\n    .dataframe tbody tr th:only-of-type {\n        vertical-align: middle;\n    }\n\n    .dataframe tbody tr th {\n        vertical-align: top;\n    }\n\n    .dataframe thead th {\n        text-align: right;\n    }\n</style>\n<table border=\"1\" class=\"dataframe\">\n  <thead>\n    <tr style=\"text-align: right;\">\n      <th></th>\n      <th>col1</th>\n      <th>col2</th>\n      <th>col3</th>\n      <th>col4</th>\n      <th>col5</th>\n    </tr>\n  </thead>\n  <tbody>\n    <tr>\n      <th>0</th>\n      <td>3</td>\n      <td>4</td>\n      <td>2</td>\n      <td>13</td>\n      <td>15</td>\n    </tr>\n    <tr>\n      <th>1</th>\n      <td>1</td>\n      <td>2</td>\n      <td>12</td>\n      <td>18</td>\n      <td>12</td>\n    </tr>\n    <tr>\n      <th>2</th>\n      <td>7</td>\n      <td>10</td>\n      <td>7</td>\n      <td>0</td>\n      <td>12</td>\n    </tr>\n    <tr>\n      <th>3</th>\n      <td>9</td>\n      <td>14</td>\n      <td>14</td>\n      <td>1</td>\n      <td>15</td>\n    </tr>\n    <tr>\n      <th>4</th>\n      <td>9</td>\n      <td>10</td>\n      <td>17</td>\n      <td>1</td>\n      <td>4</td>\n    </tr>\n  </tbody>\n</table>\n</div>"
     },
     "execution_count": 89,
     "metadata": {},
     "output_type": "execute_result"
    }
   ],
   "source": [
    "df = pd.DataFrame(\n",
    "    np.random.randint(0, 20, size=(5, 5)), \n",
    "    columns=['col1', 'col2', 'col3', 'col4', 'col5']\n",
    ")\n",
    "df"
   ]
  },
  {
   "cell_type": "code",
   "execution_count": 109,
   "metadata": {
    "id": "SEHuw4hJsoUP",
    "_cell_id": "DRSnW5e8NxgGCXXe"
   },
   "outputs": [
    {
     "data": {
      "text/plain": "   col4  col1  col2  col3  col5\n0    13     3     4     2    15\n1    18     1     2    12    12\n2     0     7    10     7    12\n3     1     9    14    14    15\n4     1     9    10    17     4",
      "text/html": "<div>\n<style scoped>\n    .dataframe tbody tr th:only-of-type {\n        vertical-align: middle;\n    }\n\n    .dataframe tbody tr th {\n        vertical-align: top;\n    }\n\n    .dataframe thead th {\n        text-align: right;\n    }\n</style>\n<table border=\"1\" class=\"dataframe\">\n  <thead>\n    <tr style=\"text-align: right;\">\n      <th></th>\n      <th>col4</th>\n      <th>col1</th>\n      <th>col2</th>\n      <th>col3</th>\n      <th>col5</th>\n    </tr>\n  </thead>\n  <tbody>\n    <tr>\n      <th>0</th>\n      <td>13</td>\n      <td>3</td>\n      <td>4</td>\n      <td>2</td>\n      <td>15</td>\n    </tr>\n    <tr>\n      <th>1</th>\n      <td>18</td>\n      <td>1</td>\n      <td>2</td>\n      <td>12</td>\n      <td>12</td>\n    </tr>\n    <tr>\n      <th>2</th>\n      <td>0</td>\n      <td>7</td>\n      <td>10</td>\n      <td>7</td>\n      <td>12</td>\n    </tr>\n    <tr>\n      <th>3</th>\n      <td>1</td>\n      <td>9</td>\n      <td>14</td>\n      <td>14</td>\n      <td>15</td>\n    </tr>\n    <tr>\n      <th>4</th>\n      <td>1</td>\n      <td>9</td>\n      <td>10</td>\n      <td>17</td>\n      <td>4</td>\n    </tr>\n  </tbody>\n</table>\n</div>"
     },
     "execution_count": 109,
     "metadata": {},
     "output_type": "execute_result"
    }
   ],
   "source": [
    "# TODO - отсортируйте данные индекса 3 по убыванию\n",
    "df.sort_values(by=3, axis=\"columns\")"
   ]
  },
  {
   "cell_type": "markdown",
   "metadata": {
    "id": "1NiNk_Z4swrf"
   },
   "source": [
    "## Разделение данных на категории"
   ]
  },
  {
   "cell_type": "markdown",
   "metadata": {
    "id": "GqVFtAOws2vY"
   },
   "source": [
    "В ходе работы с данными часто бывает необходимо диапазон числовой переменной разбить на несколько групп (категорий). Например, заменить числовой диапазон температур воды $[-10; 60]$ на три категории $[низкая, средняя, высокая]$. Для таких целей используется функция `pd.cut()`:"
   ]
  },
  {
   "cell_type": "code",
   "execution_count": 110,
   "metadata": {
    "colab": {
     "base_uri": "https://localhost:8080/",
     "height": 191
    },
    "executionInfo": {
     "elapsed": 4004,
     "status": "ok",
     "timestamp": 1598976561485,
     "user": {
      "displayName": "Алексей Девяткин",
      "photoUrl": "",
      "userId": "11945040185410340858"
     },
     "user_tz": -180
    },
    "id": "RMGX8awRtsQb",
    "outputId": "3cf6da20-3f5d-4584-8ab1-f20037ed7a70",
    "_cell_id": "cVzwfXOAmzyHWhyJ"
   },
   "outputs": [
    {
     "data": {
      "text/plain": "   temp\n0    59\n1    22\n2   -10\n3    38\n4    20",
      "text/html": "<div>\n<style scoped>\n    .dataframe tbody tr th:only-of-type {\n        vertical-align: middle;\n    }\n\n    .dataframe tbody tr th {\n        vertical-align: top;\n    }\n\n    .dataframe thead th {\n        text-align: right;\n    }\n</style>\n<table border=\"1\" class=\"dataframe\">\n  <thead>\n    <tr style=\"text-align: right;\">\n      <th></th>\n      <th>temp</th>\n    </tr>\n  </thead>\n  <tbody>\n    <tr>\n      <th>0</th>\n      <td>59</td>\n    </tr>\n    <tr>\n      <th>1</th>\n      <td>22</td>\n    </tr>\n    <tr>\n      <th>2</th>\n      <td>-10</td>\n    </tr>\n    <tr>\n      <th>3</th>\n      <td>38</td>\n    </tr>\n    <tr>\n      <th>4</th>\n      <td>20</td>\n    </tr>\n  </tbody>\n</table>\n</div>"
     },
     "execution_count": 110,
     "metadata": {},
     "output_type": "execute_result"
    }
   ],
   "source": [
    "df = pd.DataFrame({\n",
    "    'temp': [59, 22, -10, 38, 20, 40, 38, 47, 20, 15, 13, 44, 57, 32, 38]\n",
    "})\n",
    "df.head()"
   ]
  },
  {
   "cell_type": "code",
   "execution_count": 111,
   "metadata": {
    "colab": {
     "base_uri": "https://localhost:8080/",
     "height": 191
    },
    "executionInfo": {
     "elapsed": 3987,
     "status": "ok",
     "timestamp": 1598976561486,
     "user": {
      "displayName": "Алексей Девяткин",
      "photoUrl": "",
      "userId": "11945040185410340858"
     },
     "user_tz": -180
    },
    "id": "8s2DpnH8uPPI",
    "outputId": "365fbd71-bcac-421b-a254-2c393e92e4c7",
    "_cell_id": "2YHnj9FCtZ8HrvdJ"
   },
   "outputs": [
    {
     "data": {
      "text/plain": "   temp temp_cat\n0    59     high\n1    22   medium\n2   -10      low\n3    38     high\n4    20   medium",
      "text/html": "<div>\n<style scoped>\n    .dataframe tbody tr th:only-of-type {\n        vertical-align: middle;\n    }\n\n    .dataframe tbody tr th {\n        vertical-align: top;\n    }\n\n    .dataframe thead th {\n        text-align: right;\n    }\n</style>\n<table border=\"1\" class=\"dataframe\">\n  <thead>\n    <tr style=\"text-align: right;\">\n      <th></th>\n      <th>temp</th>\n      <th>temp_cat</th>\n    </tr>\n  </thead>\n  <tbody>\n    <tr>\n      <th>0</th>\n      <td>59</td>\n      <td>high</td>\n    </tr>\n    <tr>\n      <th>1</th>\n      <td>22</td>\n      <td>medium</td>\n    </tr>\n    <tr>\n      <th>2</th>\n      <td>-10</td>\n      <td>low</td>\n    </tr>\n    <tr>\n      <th>3</th>\n      <td>38</td>\n      <td>high</td>\n    </tr>\n    <tr>\n      <th>4</th>\n      <td>20</td>\n      <td>medium</td>\n    </tr>\n  </tbody>\n</table>\n</div>"
     },
     "execution_count": 111,
     "metadata": {},
     "output_type": "execute_result"
    }
   ],
   "source": [
    "# Можно задать свои границы диапазона и названия категорий\n",
    "# Если планируется три категории, то границ должно быть на одну больше - \n",
    "#   так задаются диапазоны для категорий\n",
    "df['temp_cat'] = pd.cut(\n",
    "    x=df['temp'],\n",
    "    bins=[-10, 10, 25, 60],\n",
    "    labels=['low', 'medium', 'high'],\n",
    "    # Флаг, чтобы самое левое значение границы входило в первый диапазон\n",
    "    include_lowest=True\n",
    ")\n",
    "df.head()"
   ]
  },
  {
   "cell_type": "code",
   "execution_count": 112,
   "metadata": {
    "colab": {
     "base_uri": "https://localhost:8080/",
     "height": 33
    },
    "executionInfo": {
     "elapsed": 3970,
     "status": "ok",
     "timestamp": 1598976561487,
     "user": {
      "displayName": "Алексей Девяткин",
      "photoUrl": "",
      "userId": "11945040185410340858"
     },
     "user_tz": -180
    },
    "id": "xq8zAyhSvIh-",
    "outputId": "803426d8-9324-4146-a4e6-5cd63390fc8a",
    "_cell_id": "pMjzcDr41RBlGxGI"
   },
   "outputs": [
    {
     "data": {
      "text/plain": "CategoricalDtype(categories=['low', 'medium', 'high'], ordered=True)"
     },
     "execution_count": 112,
     "metadata": {},
     "output_type": "execute_result"
    }
   ],
   "source": [
    "# Результат разделения имеет категориальный тип\n",
    "df['temp_cat'].dtype"
   ]
  },
  {
   "cell_type": "code",
   "execution_count": 113,
   "metadata": {
    "colab": {
     "base_uri": "https://localhost:8080/",
     "height": 50
    },
    "executionInfo": {
     "elapsed": 3952,
     "status": "ok",
     "timestamp": 1598976561488,
     "user": {
      "displayName": "Алексей Девяткин",
      "photoUrl": "",
      "userId": "11945040185410340858"
     },
     "user_tz": -180
    },
    "id": "er1CIaTvvTAY",
    "outputId": "b319f612-5979-4ab0-cff3-e8152fc5e618",
    "_cell_id": "eOTypTTmVjBbFYAo"
   },
   "outputs": [
    {
     "data": {
      "text/plain": "[(25.0, 60.0], (10.0, 25.0], (-10.001, 10.0]]\nCategories (3, interval[float64, right]): [(-10.001, 10.0] < (10.0, 25.0] < (25.0, 60.0]]"
     },
     "execution_count": 113,
     "metadata": {},
     "output_type": "execute_result"
    }
   ],
   "source": [
    "# Можно не задавать имена категориям, тогда он сам их назовёт\n",
    "result_after_cut = pd.cut(\n",
    "    x=df['temp'],\n",
    "    bins=[-10, 10, 25, 60],\n",
    "    include_lowest=True\n",
    ")\n",
    "# Взглянем на имена\n",
    "result_after_cut.unique()"
   ]
  },
  {
   "cell_type": "code",
   "execution_count": 115,
   "metadata": {
    "colab": {
     "base_uri": "https://localhost:8080/",
     "height": 50
    },
    "executionInfo": {
     "elapsed": 3930,
     "status": "ok",
     "timestamp": 1598976561489,
     "user": {
      "displayName": "Алексей Девяткин",
      "photoUrl": "",
      "userId": "11945040185410340858"
     },
     "user_tz": -180
    },
    "id": "t_3YYiaWwKZB",
    "outputId": "24e923bf-a720-4776-c058-940f0365a8d5",
    "_cell_id": "dG4UiwUvd7xD3fFi"
   },
   "outputs": [
    {
     "data": {
      "text/plain": "    temp temp_cat\n0     59     high\n1     22   medium\n2    -10      low\n3     38     high\n4     20   medium\n5     40     high\n6     38     high\n7     47     high\n8     20   medium\n9     15   medium\n10    13   medium\n11    44     high\n12    57     high\n13    32     high\n14    38     high",
      "text/html": "<div>\n<style scoped>\n    .dataframe tbody tr th:only-of-type {\n        vertical-align: middle;\n    }\n\n    .dataframe tbody tr th {\n        vertical-align: top;\n    }\n\n    .dataframe thead th {\n        text-align: right;\n    }\n</style>\n<table border=\"1\" class=\"dataframe\">\n  <thead>\n    <tr style=\"text-align: right;\">\n      <th></th>\n      <th>temp</th>\n      <th>temp_cat</th>\n    </tr>\n  </thead>\n  <tbody>\n    <tr>\n      <th>0</th>\n      <td>59</td>\n      <td>high</td>\n    </tr>\n    <tr>\n      <th>1</th>\n      <td>22</td>\n      <td>medium</td>\n    </tr>\n    <tr>\n      <th>2</th>\n      <td>-10</td>\n      <td>low</td>\n    </tr>\n    <tr>\n      <th>3</th>\n      <td>38</td>\n      <td>high</td>\n    </tr>\n    <tr>\n      <th>4</th>\n      <td>20</td>\n      <td>medium</td>\n    </tr>\n    <tr>\n      <th>5</th>\n      <td>40</td>\n      <td>high</td>\n    </tr>\n    <tr>\n      <th>6</th>\n      <td>38</td>\n      <td>high</td>\n    </tr>\n    <tr>\n      <th>7</th>\n      <td>47</td>\n      <td>high</td>\n    </tr>\n    <tr>\n      <th>8</th>\n      <td>20</td>\n      <td>medium</td>\n    </tr>\n    <tr>\n      <th>9</th>\n      <td>15</td>\n      <td>medium</td>\n    </tr>\n    <tr>\n      <th>10</th>\n      <td>13</td>\n      <td>medium</td>\n    </tr>\n    <tr>\n      <th>11</th>\n      <td>44</td>\n      <td>high</td>\n    </tr>\n    <tr>\n      <th>12</th>\n      <td>57</td>\n      <td>high</td>\n    </tr>\n    <tr>\n      <th>13</th>\n      <td>32</td>\n      <td>high</td>\n    </tr>\n    <tr>\n      <th>14</th>\n      <td>38</td>\n      <td>high</td>\n    </tr>\n  </tbody>\n</table>\n</div>"
     },
     "execution_count": 115,
     "metadata": {},
     "output_type": "execute_result"
    }
   ],
   "source": [
    "# Можно не задавать границы, лишь количество категорий - \n",
    "#   разделение будет на категории с одинаковой шириной диапазонов\n",
    "result_after_cut = pd.cut(\n",
    "    x=df['temp'],\n",
    "    bins=3\n",
    ")\n",
    "result_after_cut.unique()"
   ]
  },
  {
   "cell_type": "markdown",
   "metadata": {
    "id": "iXKi1PEJxin2"
   },
   "source": [
    "### Задание - разделим по качеству\n",
    "\n",
    "Разделите показатель качества в диапазоне $[0, 100]$ на четыре группы: \n",
    "\n",
    "* плохое $[0-20]$, \n",
    "\n",
    "* среднее $(20-45]$, \n",
    "\n",
    "* хорошее $(45-85]$, \n",
    "\n",
    "* отличное $(85-100]$. \n",
    "\n",
    "Выясните, что происходит со значениями, которые не попадают в диапазоны категорий:"
   ]
  },
  {
   "cell_type": "code",
   "execution_count": 147,
   "metadata": {
    "_cell_id": "pdTm7Hu3l1qJw9Er"
   },
   "outputs": [
    {
     "data": {
      "text/plain": "   quality\n0        7\n1       67\n2       21\n3       38\n4        2",
      "text/html": "<div>\n<style scoped>\n    .dataframe tbody tr th:only-of-type {\n        vertical-align: middle;\n    }\n\n    .dataframe tbody tr th {\n        vertical-align: top;\n    }\n\n    .dataframe thead th {\n        text-align: right;\n    }\n</style>\n<table border=\"1\" class=\"dataframe\">\n  <thead>\n    <tr style=\"text-align: right;\">\n      <th></th>\n      <th>quality</th>\n    </tr>\n  </thead>\n  <tbody>\n    <tr>\n      <th>0</th>\n      <td>7</td>\n    </tr>\n    <tr>\n      <th>1</th>\n      <td>67</td>\n    </tr>\n    <tr>\n      <th>2</th>\n      <td>21</td>\n    </tr>\n    <tr>\n      <th>3</th>\n      <td>38</td>\n    </tr>\n    <tr>\n      <th>4</th>\n      <td>2</td>\n    </tr>\n  </tbody>\n</table>\n</div>"
     },
     "execution_count": 147,
     "metadata": {},
     "output_type": "execute_result"
    }
   ],
   "source": [
    "df = pd.DataFrame({\n",
    "    'quality': [ 7, 67, 21, 38,  2, -2, 79, 22,  5, 31, 77, 72, 23, 64, 99]\n",
    "})\n",
    "df.head()"
   ]
  },
  {
   "cell_type": "code",
   "execution_count": 148,
   "metadata": {
    "id": "AYlnGVTGyxWh",
    "_cell_id": "UrC2J178krM3Svay"
   },
   "outputs": [
    {
     "data": {
      "text/plain": "   quality mark\n5       -2  NaN",
      "text/html": "<div>\n<style scoped>\n    .dataframe tbody tr th:only-of-type {\n        vertical-align: middle;\n    }\n\n    .dataframe tbody tr th {\n        vertical-align: top;\n    }\n\n    .dataframe thead th {\n        text-align: right;\n    }\n</style>\n<table border=\"1\" class=\"dataframe\">\n  <thead>\n    <tr style=\"text-align: right;\">\n      <th></th>\n      <th>quality</th>\n      <th>mark</th>\n    </tr>\n  </thead>\n  <tbody>\n    <tr>\n      <th>5</th>\n      <td>-2</td>\n      <td>NaN</td>\n    </tr>\n  </tbody>\n</table>\n</div>"
     },
     "execution_count": 148,
     "metadata": {},
     "output_type": "execute_result"
    }
   ],
   "source": [
    "# TODO - разделите данные на категории\n",
    "df[\"mark\"] = pd.cut(\n",
    "    x=df[\"quality\"],\n",
    "    bins=[0, 20, 45, 85, 100],\n",
    "    labels=[\"плохое\", \"среднее\", \"хорошее\", \"отличное\",],\n",
    "    include_lowest=True\n",
    ")\n",
    "df.head()\n",
    "# TODO - определите, какие записи не имеют категорий и почему\n",
    "df.loc[pd.isna(df[\"mark\"])]\n",
    "# `-2` за минимальным диапазоном"
   ]
  },
  {
   "cell_type": "markdown",
   "metadata": {
    "id": "Bmguv4P80S4s"
   },
   "source": [
    "## Агрегация данных"
   ]
  },
  {
   "cell_type": "markdown",
   "metadata": {
    "id": "pGSptZbq0Vn7"
   },
   "source": [
    "Агрегация данных - объединение группы данных для получения информации. Примерами операций аргегации являются: сумма, среднее, максимум, минимум.\n",
    "\n",
    "В pandas агрегация может быть выполнена путем метода `DataFrame.aggregate()`:"
   ]
  },
  {
   "cell_type": "code",
   "execution_count": null,
   "metadata": {
    "colab": {
     "base_uri": "https://localhost:8080/",
     "height": 162
    },
    "executionInfo": {
     "elapsed": 3881,
     "status": "ok",
     "timestamp": 1598976561491,
     "user": {
      "displayName": "Алексей Девяткин",
      "photoUrl": "",
      "userId": "11945040185410340858"
     },
     "user_tz": -180
    },
    "id": "Op1RTE8P1UCT",
    "outputId": "75668b36-31f4-4977-813b-00fd7105c6cb",
    "_cell_id": "FG0wYzDfgaazwrQk"
   },
   "outputs": [],
   "source": [
    "df = pd.DataFrame([[1, 2, 3],\n",
    "                   [4, 5, 6],\n",
    "                   [7, 8, 9],\n",
    "                   [np.nan, np.nan, np.nan]],\n",
    "                  columns=['A', 'B', 'C'])\n",
    "df"
   ]
  },
  {
   "cell_type": "code",
   "execution_count": null,
   "metadata": {
    "colab": {
     "base_uri": "https://localhost:8080/",
     "height": 105
    },
    "executionInfo": {
     "elapsed": 4306,
     "status": "ok",
     "timestamp": 1598976561937,
     "user": {
      "displayName": "Алексей Девяткин",
      "photoUrl": "",
      "userId": "11945040185410340858"
     },
     "user_tz": -180
    },
    "id": "7WW-Y5fG1ozf",
    "outputId": "149fe5cf-8135-4fc6-b42d-295553dba809",
    "_cell_id": "PkgvZmIxvO3V1OqU"
   },
   "outputs": [],
   "source": [
    "# Получим значения минимумов и средних по всем колонкам\n",
    "# Принцип аналогичен операциям в numpy - \n",
    "#   для агрегации по колонка операция должна пройти по рядам,\n",
    "#   соответсвенно, axis='rows'\n",
    "df.aggregate(['min', 'mean'], axis='rows')"
   ]
  },
  {
   "cell_type": "code",
   "execution_count": null,
   "metadata": {
    "colab": {
     "base_uri": "https://localhost:8080/",
     "height": 162
    },
    "executionInfo": {
     "elapsed": 4280,
     "status": "ok",
     "timestamp": 1598976561938,
     "user": {
      "displayName": "Алексей Девяткин",
      "photoUrl": "",
      "userId": "11945040185410340858"
     },
     "user_tz": -180
    },
    "id": "4xER9_e_2BdW",
    "outputId": "72405731-9f3b-4e85-e375-a58e42edfe37",
    "_cell_id": "eUy7NnG1NwhdNcbX"
   },
   "outputs": [],
   "source": [
    "# Зададим правила агрегации для каждой колонки\n",
    "# Операции можно задавать строками или функциями numpy\n",
    "df.aggregate({\n",
    "    'A': ['sum', 'min'],\n",
    "    'B': ['max', 'min'],\n",
    "    'C': [np.sum, np.mean],\n",
    "})"
   ]
  },
  {
   "cell_type": "markdown",
   "metadata": {
    "id": "yGZz-fgz2iR0"
   },
   "source": [
    "### Задание - проще простого среднего\n",
    "\n",
    "Произведите агрегацию средним по рядам"
   ]
  },
  {
   "cell_type": "code",
   "execution_count": null,
   "metadata": {
    "colab": {
     "base_uri": "https://localhost:8080/",
     "height": 133
    },
    "executionInfo": {
     "elapsed": 4257,
     "status": "ok",
     "timestamp": 1598976561939,
     "user": {
      "displayName": "Алексей Девяткин",
      "photoUrl": "",
      "userId": "11945040185410340858"
     },
     "user_tz": -180
    },
    "id": "19vF30JF2pu_",
    "outputId": "91a0a2af-9c3f-40b9-e077-fe0390873c93",
    "_cell_id": "0bnDM9HPAQD4Q3tX"
   },
   "outputs": [],
   "source": [
    "df = pd.DataFrame(\n",
    "    ([1, 2, 3], [4, 5, 6], [7, 8, 9]), \n",
    "    columns=['x1', 'x2', 'x3'])\n",
    "df"
   ]
  },
  {
   "cell_type": "code",
   "execution_count": null,
   "metadata": {
    "id": "NCi-jyrA20b5",
    "_cell_id": "1bYtCijh8xABoiwU"
   },
   "outputs": [],
   "source": [
    "# TODO - произведите агрегацию по рядам (найти среднее)"
   ]
  },
  {
   "cell_type": "markdown",
   "metadata": {
    "id": "C12HB8hxuHi7"
   },
   "source": [
    "## Группировки"
   ]
  },
  {
   "cell_type": "markdown",
   "metadata": {
    "id": "jSyxFTtFue8h"
   },
   "source": [
    "Игры закончились - начались серьёзные вещи. Группировки это один из сильнейших инструментов, которые позволяют вытаскивать из данных полезную информацию!\n",
    "\n",
    "Для понимания разберём пример: допустим, у нас есть база данных студентов с 1 по 4 курсы. Одна из колонок будет иметь в качестве значения номер курса и так как количество допустимых значений ограничено - то правильно считать эту колонку категориальной. Другая колонка - оценка за общий университетский тест (все курсы его проходили). Третьей колонкой будет время выполнения:"
   ]
  },
  {
   "cell_type": "code",
   "execution_count": null,
   "metadata": {
    "colab": {
     "base_uri": "https://localhost:8080/",
     "height": 306
    },
    "executionInfo": {
     "elapsed": 4202,
     "status": "ok",
     "timestamp": 1598976561942,
     "user": {
      "displayName": "Алексей Девяткин",
      "photoUrl": "",
      "userId": "11945040185410340858"
     },
     "user_tz": -180
    },
    "id": "gj4gFhFpxmuq",
    "outputId": "d7d14416-7cec-4f7c-d642-fd6d6631f94d",
    "_cell_id": "slUzyq4LyWlmqUmP"
   },
   "outputs": [],
   "source": [
    "data = [\n",
    "    [1, 4.7, 60],\n",
    "    [3, 4.5, 45],\n",
    "    [4, 4.8, 40],\n",
    "    [1, 4.9, 58],\n",
    "    [2, 4.1, 50],\n",
    "    [2, 4.2, 49],\n",
    "    [2, 4.4, 49],\n",
    "    [3, 4.9, 46],\n",
    "    [4, 4.3, 33],\n",
    "]\n",
    "\n",
    "stud_df = pd.DataFrame(data, columns=['Grade', 'Test_Mark', 'Time'])\n",
    "stud_df"
   ]
  },
  {
   "cell_type": "markdown",
   "metadata": {
    "id": "REtVnk-JyEbH"
   },
   "source": [
    "Теперь представим, что мы сложим каждый курс в свою корзинку путем группировки:\n"
   ]
  },
  {
   "cell_type": "code",
   "execution_count": null,
   "metadata": {
    "colab": {
     "base_uri": "https://localhost:8080/",
     "height": 98
    },
    "executionInfo": {
     "elapsed": 4183,
     "status": "ok",
     "timestamp": 1598976561944,
     "user": {
      "displayName": "Алексей Девяткин",
      "photoUrl": "",
      "userId": "11945040185410340858"
     },
     "user_tz": -180
    },
    "id": "Cv2ttcWmyO_8",
    "outputId": "b07c6cbb-0cbc-428b-fad7-c0aaa205e6a9",
    "_cell_id": "0Rkc7cHIB5IdgJtc"
   },
   "outputs": [],
   "source": [
    "gr_stud_df = stud_df.groupby(by='Grade')\n",
    "\n",
    "# Тип результата - pd.DataFrameGroupBy\n",
    "print(type(gr_stud_df))\n",
    "\n",
    "# Таким образом увидим словарь:\n",
    "#   Ключи - названия групп\n",
    "#   Значения - индексы из данных для группы\n",
    "gr_stud_df.groups"
   ]
  },
  {
   "cell_type": "markdown",
   "metadata": {
    "id": "qA5LXUaEys_8"
   },
   "source": [
    "После того, как мы сложили записи по группам, мы можем вычислить, например, среднее значение в каждой группе:"
   ]
  },
  {
   "cell_type": "code",
   "execution_count": null,
   "metadata": {
    "colab": {
     "base_uri": "https://localhost:8080/",
     "height": 191
    },
    "executionInfo": {
     "elapsed": 4163,
     "status": "ok",
     "timestamp": 1598976561945,
     "user": {
      "displayName": "Алексей Девяткин",
      "photoUrl": "",
      "userId": "11945040185410340858"
     },
     "user_tz": -180
    },
    "id": "akIG2VcFy1Mq",
    "outputId": "c1124ecd-78fe-4182-c768-24f4e1e29cf1",
    "_cell_id": "6lA4ALYYqsZGRMMJ"
   },
   "outputs": [],
   "source": [
    "gr_stud_df.agg('mean')"
   ]
  },
  {
   "cell_type": "markdown",
   "metadata": {
    "id": "243rNrpUzHvL"
   },
   "source": [
    "В результате, мы смогли вычислить среднюю оценку за тест по каждому курсу! И для этого нам потребовалось всего два метода! Ручным вариантом нам бы пришлось создавать контейнеры, складывать в них значения и потом вычислять средние значения..."
   ]
  },
  {
   "cell_type": "markdown",
   "metadata": {
    "id": "_4axNP1MzP7u"
   },
   "source": [
    "Резюмируя, группировка - это размещение данных по группам уникальных значений признака, по которому группируется. После группировки можно произвести агрегацию данных в каждой группе."
   ]
  },
  {
   "cell_type": "code",
   "execution_count": null,
   "metadata": {
    "colab": {
     "base_uri": "https://localhost:8080/",
     "height": 220
    },
    "executionInfo": {
     "elapsed": 4144,
     "status": "ok",
     "timestamp": 1598976561946,
     "user": {
      "displayName": "Алексей Девяткин",
      "photoUrl": "",
      "userId": "11945040185410340858"
     },
     "user_tz": -180
    },
    "id": "1RjQadBi3XYL",
    "outputId": "a516c468-14a1-4f18-d32f-176b70d938c0",
    "_cell_id": "tBm88dUJeO9bsXQt"
   },
   "outputs": [],
   "source": [
    "# Более сложный вариант - найдем средние и минимальные время и оценку \n",
    "\n",
    "gr_stud_df.agg(['mean', 'min'])"
   ]
  },
  {
   "cell_type": "code",
   "execution_count": null,
   "metadata": {
    "colab": {
     "base_uri": "https://localhost:8080/",
     "height": 236
    },
    "executionInfo": {
     "elapsed": 4123,
     "status": "ok",
     "timestamp": 1598976561947,
     "user": {
      "displayName": "Алексей Девяткин",
      "photoUrl": "",
      "userId": "11945040185410340858"
     },
     "user_tz": -180
    },
    "id": "9SEk__CQ4wtP",
    "outputId": "73cf1113-f50a-48dc-e4b2-47fd5468b143",
    "_cell_id": "u5ceFLGPfPTGQhul"
   },
   "outputs": [],
   "source": [
    "# Или зададим правила для каждого признака по отдельности\n",
    "\n",
    "res = gr_stud_df.agg({\n",
    "    'Test_Mark': ['mean', 'min'],\n",
    "    'Time': ['min']\n",
    "})\n",
    "\n",
    "print(type(res))\n",
    "res"
   ]
  },
  {
   "cell_type": "code",
   "execution_count": null,
   "metadata": {
    "colab": {
     "base_uri": "https://localhost:8080/",
     "height": 115
    },
    "executionInfo": {
     "elapsed": 4103,
     "status": "ok",
     "timestamp": 1598976561949,
     "user": {
      "displayName": "Алексей Девяткин",
      "photoUrl": "",
      "userId": "11945040185410340858"
     },
     "user_tz": -180
    },
    "id": "T78u8tYt6Kn6",
    "outputId": "a54fbf18-1709-44c8-b629-7fce97ef7648",
    "_cell_id": "QUcQgZAcz5RvK9gN"
   },
   "outputs": [],
   "source": [
    "# Для обращения к данным просто используем несколько индексов, \n",
    "#   так как это DataFrame\n",
    "res['Test_Mark']['mean']"
   ]
  },
  {
   "cell_type": "markdown",
   "metadata": {
    "id": "D0WysErg5FyX"
   },
   "source": [
    "### Задание - сгруппируем\n",
    "\n",
    "Сгруппируйте данные по признаку x2 и найдите медиану и максимальное значения по признакам x1, x3:"
   ]
  },
  {
   "cell_type": "code",
   "execution_count": null,
   "metadata": {
    "colab": {
     "base_uri": "https://localhost:8080/",
     "height": 191
    },
    "executionInfo": {
     "elapsed": 4084,
     "status": "ok",
     "timestamp": 1598976561950,
     "user": {
      "displayName": "Алексей Девяткин",
      "photoUrl": "",
      "userId": "11945040185410340858"
     },
     "user_tz": -180
    },
    "id": "inrIEOBN7tIJ",
    "outputId": "864e4837-c71e-47ff-d8ef-f72593100b66",
    "_cell_id": "NGCWHtCMWxUONgLK"
   },
   "outputs": [],
   "source": [
    "df = pd.DataFrame({\n",
    "    'x1': np.random.randint(10, 100, size=(200, )),\n",
    "    'x2': np.random.choice(['low', 'high', 'medium'], size=(200, )),\n",
    "    'x3': np.random.randint(-20, 30, size=(200, )),\n",
    "})\n",
    "df.head()"
   ]
  },
  {
   "cell_type": "code",
   "execution_count": null,
   "metadata": {
    "id": "s9YIb62P8NZR",
    "_cell_id": "27kmnAf72Ctw0pda"
   },
   "outputs": [],
   "source": [
    "# TODO - произведите групировку данных\n",
    "#           и получите средние и максимальные значения по каждой группе"
   ]
  }
 ],
 "metadata": {
  "colab": {
   "collapsed_sections": [],
   "name": "Pr03_Pandas.ipynb",
   "provenance": [],
   "toc_visible": true
  },
  "interpreter": {
   "hash": "a4f60baab10fba59fece84098e84620134308d8d27de6ca0fa68d1c22a6654b7"
  },
  "language_info": {
   "codemirror_mode": {
    "name": "ipython",
    "version": 3
   },
   "file_extension": ".py",
   "mimetype": "text/x-python",
   "name": "python",
   "nbconvert_exporter": "python",
   "pygments_lexer": "ipython3",
   "version": "3.8.13"
  }
 },
 "nbformat": 4,
 "nbformat_minor": 2
}
