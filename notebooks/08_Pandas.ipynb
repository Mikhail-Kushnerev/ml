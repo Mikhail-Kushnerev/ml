{
 "cells": [
  {
   "cell_type": "markdown",
   "metadata": {
    "id": "_hmXpj3l1WIL"
   },
   "source": [
    "# Pandas (Часть 3)"
   ]
  },
  {
   "cell_type": "markdown",
   "source": [
    "> 🚀 В этой практике нам понадобятся: `numpy==1.21.2, pandas==1.3.3` \n",
    "\n",
    "> 🚀 Установить вы их можете с помощью команды: `!pip install numpy==1.21.2 pandas==1.3.3` \n"
   ],
   "metadata": {}
  },
  {
   "cell_type": "markdown",
   "source": [
    "## Содержание\n",
    "\n",
    "* [Сохранение / загрузка данных (работа с CSV)](#Сохранение-/-загрузка-данных-работа-с-CSV)\n",
    "  * [Задание - чуток самостоятельного разбора](#Задание---чуток-самостоятельного-разбора)\n",
    "* [Задачки](#Задачки)\n"
   ],
   "metadata": {}
  },
  {
   "cell_type": "markdown",
   "metadata": {},
   "source": [
    "В этом ноутбуке:\n",
    "- CSV файлы\n",
    "- Кто не работает тот ест: землю при встрече с трудностями. Задачки"
   ]
  },
  {
   "cell_type": "code",
   "execution_count": 3,
   "metadata": {
    "vscode": {
     "languageId": "markdown"
    },
    "_cell_id": "LHqcVPM8fofLeSd4"
   },
   "outputs": [],
   "source": [
    "import pandas as pd\n",
    "import numpy as np"
   ]
  },
  {
   "cell_type": "markdown",
   "metadata": {
    "id": "QoA5WcSp_1am"
   },
   "source": [
    "## Сохранение / загрузка данных (работа с CSV) "
   ]
  },
  {
   "cell_type": "markdown",
   "metadata": {
    "id": "FRzJjPfe_55Q"
   },
   "source": [
    "Одним из важных инструментов в работе с таблицами является возможность сохранить результаты работы в файл или загрузить данные из файла. Пользоваться мы будем форматом CSV, который является текстовым форматом для хранения таблицы. Формат представляет собой текстовые строки, каждая колонка разделяется разделителем (запятая, точка запятой и др.), поэтому его просто понять и обрабатывать, так как не требуется никакого специального протокола для понимания.\n",
    "\n",
    "Для сохранения данных имеется метод `DataFrame.to_csv()`:"
   ]
  },
  {
   "cell_type": "code",
   "execution_count": 18,
   "outputs": [],
   "source": [
    "from pathlib import Path\n",
    "\n",
    "BASE_DIR = Path().resolve().parent\n",
    "RESULT_DIR = BASE_DIR / \"result\"\n",
    "RESULT_DIR.mkdir(exist_ok=True)"
   ],
   "metadata": {
    "collapsed": false
   }
  },
  {
   "cell_type": "code",
   "execution_count": 25,
   "metadata": {
    "colab": {
     "base_uri": "https://localhost:8080/",
     "height": 133
    },
    "executionInfo": {
     "elapsed": 4384,
     "status": "ok",
     "timestamp": 1598976562303,
     "user": {
      "displayName": "Алексей Девяткин",
      "photoUrl": "",
      "userId": "11945040185410340858"
     },
     "user_tz": -180
    },
    "id": "DmYMxecrAq10",
    "outputId": "9f134781-1869-49f3-9294-f0ec9f25b59f",
    "_cell_id": "QMQ5sHUhrwyL398z"
   },
   "outputs": [
    {
     "data": {
      "text/plain": "   x1  x2  x3\nA   2   0   7\nB   0   1   7\nC   6   6   5",
      "text/html": "<div>\n<style scoped>\n    .dataframe tbody tr th:only-of-type {\n        vertical-align: middle;\n    }\n\n    .dataframe tbody tr th {\n        vertical-align: top;\n    }\n\n    .dataframe thead th {\n        text-align: right;\n    }\n</style>\n<table border=\"1\" class=\"dataframe\">\n  <thead>\n    <tr style=\"text-align: right;\">\n      <th></th>\n      <th>x1</th>\n      <th>x2</th>\n      <th>x3</th>\n    </tr>\n  </thead>\n  <tbody>\n    <tr>\n      <th>A</th>\n      <td>2</td>\n      <td>0</td>\n      <td>7</td>\n    </tr>\n    <tr>\n      <th>B</th>\n      <td>0</td>\n      <td>1</td>\n      <td>7</td>\n    </tr>\n    <tr>\n      <th>C</th>\n      <td>6</td>\n      <td>6</td>\n      <td>5</td>\n    </tr>\n  </tbody>\n</table>\n</div>"
     },
     "execution_count": 25,
     "metadata": {},
     "output_type": "execute_result"
    }
   ],
   "source": [
    "import string\n",
    "\n",
    "df = pd.DataFrame(\n",
    "    data=np.random.randint(0, 10, size=(15, 3)), \n",
    "    columns=['x1', 'x2', 'x3'],\n",
    "    index=list(string.ascii_uppercase)[:15]\n",
    ")\n",
    "df.head(3)"
   ]
  },
  {
   "cell_type": "code",
   "execution_count": 26,
   "metadata": {
    "id": "KMNVroGbA7Vw",
    "_cell_id": "PKPMvXkgMzr53w1f"
   },
   "outputs": [],
   "source": [
    "# Для сохранения задается путь до файла\n",
    "df.to_csv(fr'{RESULT_DIR}/my_first_file.csv')"
   ]
  },
  {
   "cell_type": "markdown",
   "metadata": {
    "id": "s8k6zkCrBgJf"
   },
   "source": [
    "Чтобы убедиться в работе метода найдите файл рядом с ноутбуком и откройте его через редактор.\n",
    "\n",
    "> При работе в Google Colab слева есть вкладка, которая показывает файлы на сервере.\n",
    "\n",
    "При открытии можно увидеть четыре колонки:\n",
    "- Колонка индекса;\n",
    "- Три колонки из наших данных.\n",
    "\n",
    "Теперь, когда мы имеем файл CSV в системе - можем испытать функцию загрузки `pd.read_csv()`:"
   ]
  },
  {
   "cell_type": "code",
   "execution_count": 27,
   "metadata": {
    "colab": {
     "base_uri": "https://localhost:8080/",
     "height": 133
    },
    "executionInfo": {
     "elapsed": 4354,
     "status": "ok",
     "timestamp": 1598976562305,
     "user": {
      "displayName": "Алексей Девяткин",
      "photoUrl": "",
      "userId": "11945040185410340858"
     },
     "user_tz": -180
    },
    "id": "Hu1Cn2dAAtZE",
    "outputId": "f748e2f4-4458-445c-d2fc-9836ffeb9050",
    "_cell_id": "NtTQAVZOxuZiWlkh"
   },
   "outputs": [
    {
     "data": {
      "text/plain": "  Unnamed: 0  x1  x2  x3\n0          A   2   0   7\n1          B   0   1   7\n2          C   6   6   5",
      "text/html": "<div>\n<style scoped>\n    .dataframe tbody tr th:only-of-type {\n        vertical-align: middle;\n    }\n\n    .dataframe tbody tr th {\n        vertical-align: top;\n    }\n\n    .dataframe thead th {\n        text-align: right;\n    }\n</style>\n<table border=\"1\" class=\"dataframe\">\n  <thead>\n    <tr style=\"text-align: right;\">\n      <th></th>\n      <th>Unnamed: 0</th>\n      <th>x1</th>\n      <th>x2</th>\n      <th>x3</th>\n    </tr>\n  </thead>\n  <tbody>\n    <tr>\n      <th>0</th>\n      <td>A</td>\n      <td>2</td>\n      <td>0</td>\n      <td>7</td>\n    </tr>\n    <tr>\n      <th>1</th>\n      <td>B</td>\n      <td>0</td>\n      <td>1</td>\n      <td>7</td>\n    </tr>\n    <tr>\n      <th>2</th>\n      <td>C</td>\n      <td>6</td>\n      <td>6</td>\n      <td>5</td>\n    </tr>\n  </tbody>\n</table>\n</div>"
     },
     "execution_count": 27,
     "metadata": {},
     "output_type": "execute_result"
    }
   ],
   "source": [
    "df = pd.read_csv(fr'{RESULT_DIR}/my_first_file.csv')\n",
    "df.head(3)"
   ]
  },
  {
   "cell_type": "markdown",
   "metadata": {
    "id": "826nsjTTDELg"
   },
   "source": [
    "Видна одна явная проблема - у нас появилась колонка, которая должна быть индексом, но она стала новой колонкой, а индексы создались новые. Для решения проблемы при загрузке необходимо явно задать, какая колонка считается индексом:"
   ]
  },
  {
   "cell_type": "code",
   "execution_count": 28,
   "metadata": {
    "colab": {
     "base_uri": "https://localhost:8080/",
     "height": 133
    },
    "executionInfo": {
     "elapsed": 4334,
     "status": "ok",
     "timestamp": 1598976562306,
     "user": {
      "displayName": "Алексей Девяткин",
      "photoUrl": "",
      "userId": "11945040185410340858"
     },
     "user_tz": -180
    },
    "id": "4ro4a8XQD7NU",
    "outputId": "9c23f21f-7a5e-4e89-fb88-7732c32a81f7",
    "_cell_id": "R0RmtTjHSek7gJfr"
   },
   "outputs": [
    {
     "data": {
      "text/plain": "   x1  x2  x3\nA   2   0   7\nB   0   1   7\nC   6   6   5",
      "text/html": "<div>\n<style scoped>\n    .dataframe tbody tr th:only-of-type {\n        vertical-align: middle;\n    }\n\n    .dataframe tbody tr th {\n        vertical-align: top;\n    }\n\n    .dataframe thead th {\n        text-align: right;\n    }\n</style>\n<table border=\"1\" class=\"dataframe\">\n  <thead>\n    <tr style=\"text-align: right;\">\n      <th></th>\n      <th>x1</th>\n      <th>x2</th>\n      <th>x3</th>\n    </tr>\n  </thead>\n  <tbody>\n    <tr>\n      <th>A</th>\n      <td>2</td>\n      <td>0</td>\n      <td>7</td>\n    </tr>\n    <tr>\n      <th>B</th>\n      <td>0</td>\n      <td>1</td>\n      <td>7</td>\n    </tr>\n    <tr>\n      <th>C</th>\n      <td>6</td>\n      <td>6</td>\n      <td>5</td>\n    </tr>\n  </tbody>\n</table>\n</div>"
     },
     "execution_count": 28,
     "metadata": {},
     "output_type": "execute_result"
    }
   ],
   "source": [
    "df = pd.read_csv(fr'{RESULT_DIR}/my_first_file.csv', index_col=0)\n",
    "df.head(3)"
   ]
  },
  {
   "cell_type": "markdown",
   "metadata": {
    "id": "VvNbDFPlD-kK"
   },
   "source": [
    "Теперь все отлично и данные загрузились так, как они должны быть."
   ]
  },
  {
   "cell_type": "markdown",
   "metadata": {
    "id": "iji4lnn2DRrF"
   },
   "source": [
    "### Задание - чуток самостоятельного разбора\n",
    "\n",
    "Разберитесь в аргументах `DataFrame.to_csv()` и сохраните данные в файл так, чтобы в файл индекс не сохранялся."
   ]
  },
  {
   "cell_type": "code",
   "execution_count": 31,
   "metadata": {
    "colab": {
     "base_uri": "https://localhost:8080/",
     "height": 133
    },
    "executionInfo": {
     "elapsed": 4310,
     "status": "ok",
     "timestamp": 1598976562307,
     "user": {
      "displayName": "Алексей Девяткин",
      "photoUrl": "",
      "userId": "11945040185410340858"
     },
     "user_tz": -180
    },
    "id": "QmxqqhksDdZz",
    "outputId": "2f78401a-62c0-49db-a1a8-cde35bdb9719",
    "_cell_id": "yoyKMNprzbIagekG"
   },
   "outputs": [
    {
     "data": {
      "text/plain": "    x1  x2  x3\n0    2   9   7\n1    6   2   0\n2    6   4   4\n3    0   6   0\n4    6   3   2\n5    4   2   1\n6    1   6   3\n7    2   6   1\n8    4   0   2\n9    1   0   8\n10   2   0   5\n11   1   2   2\n12   9   4   3\n13   8   8   9\n14   4   4   2",
      "text/html": "<div>\n<style scoped>\n    .dataframe tbody tr th:only-of-type {\n        vertical-align: middle;\n    }\n\n    .dataframe tbody tr th {\n        vertical-align: top;\n    }\n\n    .dataframe thead th {\n        text-align: right;\n    }\n</style>\n<table border=\"1\" class=\"dataframe\">\n  <thead>\n    <tr style=\"text-align: right;\">\n      <th></th>\n      <th>x1</th>\n      <th>x2</th>\n      <th>x3</th>\n    </tr>\n  </thead>\n  <tbody>\n    <tr>\n      <th>0</th>\n      <td>2</td>\n      <td>9</td>\n      <td>7</td>\n    </tr>\n    <tr>\n      <th>1</th>\n      <td>6</td>\n      <td>2</td>\n      <td>0</td>\n    </tr>\n    <tr>\n      <th>2</th>\n      <td>6</td>\n      <td>4</td>\n      <td>4</td>\n    </tr>\n    <tr>\n      <th>3</th>\n      <td>0</td>\n      <td>6</td>\n      <td>0</td>\n    </tr>\n    <tr>\n      <th>4</th>\n      <td>6</td>\n      <td>3</td>\n      <td>2</td>\n    </tr>\n    <tr>\n      <th>5</th>\n      <td>4</td>\n      <td>2</td>\n      <td>1</td>\n    </tr>\n    <tr>\n      <th>6</th>\n      <td>1</td>\n      <td>6</td>\n      <td>3</td>\n    </tr>\n    <tr>\n      <th>7</th>\n      <td>2</td>\n      <td>6</td>\n      <td>1</td>\n    </tr>\n    <tr>\n      <th>8</th>\n      <td>4</td>\n      <td>0</td>\n      <td>2</td>\n    </tr>\n    <tr>\n      <th>9</th>\n      <td>1</td>\n      <td>0</td>\n      <td>8</td>\n    </tr>\n    <tr>\n      <th>10</th>\n      <td>2</td>\n      <td>0</td>\n      <td>5</td>\n    </tr>\n    <tr>\n      <th>11</th>\n      <td>1</td>\n      <td>2</td>\n      <td>2</td>\n    </tr>\n    <tr>\n      <th>12</th>\n      <td>9</td>\n      <td>4</td>\n      <td>3</td>\n    </tr>\n    <tr>\n      <th>13</th>\n      <td>8</td>\n      <td>8</td>\n      <td>9</td>\n    </tr>\n    <tr>\n      <th>14</th>\n      <td>4</td>\n      <td>4</td>\n      <td>2</td>\n    </tr>\n  </tbody>\n</table>\n</div>"
     },
     "execution_count": 31,
     "metadata": {},
     "output_type": "execute_result"
    }
   ],
   "source": [
    "df = pd.DataFrame(\n",
    "    data=np.random.randint(0, 10, size=(15, 3)), \n",
    "    columns=['x1', 'x2', 'x3'],\n",
    "    index=list(string.ascii_uppercase)[:15]\n",
    ")\n",
    "# df.head(3)\n",
    "\n",
    "# TODO - сохранить в файл no_index.csv без индексов\n",
    "df.to_csv(fr'{RESULT_DIR}/my_second_file.csv', index=False)\n",
    "pd.read_csv(fr'{RESULT_DIR}/my_second_file.csv')"
   ]
  },
  {
   "cell_type": "markdown",
   "metadata": {
    "id": "irt2kdlT1Y5g"
   },
   "source": [
    "## Задачки"
   ]
  },
  {
   "cell_type": "markdown",
   "metadata": {
    "id": "ia4T__g3U7JG"
   },
   "source": [
    "Создайте фрейм с четыремя колонками:\n",
    "- Колонка с именами (тип - объекты);\n",
    "- Колонка с стажем работы (тип - вещественный);\n",
    "- Колонка с возрастом (тип - целочисленный);\n",
    "- Колонка с названием любимого цвета (тип - категориальный);\n",
    "\n",
    "Имена колонок и значения любые, не менее трех записей (строк) в фрейме."
   ]
  },
  {
   "cell_type": "code",
   "execution_count": 77,
   "metadata": {
    "id": "gjI5Zey31Ntq",
    "_cell_id": "6tMlQi2Vyz10qieF"
   },
   "outputs": [
    {
     "name": "stdout",
     "output_type": "stream",
     "text": [
      "<class 'pandas.core.frame.DataFrame'>\n",
      "RangeIndex: 15 entries, 0 to 14\n",
      "Data columns (total 4 columns):\n",
      " #   Column      Non-Null Count  Dtype   \n",
      "---  ------      --------------  -----   \n",
      " 0   Name        15 non-null     object  \n",
      " 1   Experience  15 non-null     float64 \n",
      " 2   Age         15 non-null     int32   \n",
      " 3   Color       15 non-null     category\n",
      "dtypes: category(1), float64(1), int32(1), object(1)\n",
      "memory usage: 575.0+ bytes\n"
     ]
    },
    {
     "data": {
      "text/plain": "    Name  Experience  Age  Color\n0    Joe        10.0   31    red\n1    Joe        40.0   23  green\n2   Karl        33.0   53  black\n3   Mark        11.0   55  black\n4   Karl        54.0   16    red\n5    Joe        47.0   41    red\n6    Joe        22.0   20  green\n7   Mark        29.0   38  green\n8    Joe        37.0   44  black\n9   Karl        20.0   18  green\n10  Mark        33.0   43    red\n11  Karl        16.0   63  green\n12  Mark         4.0   44  black\n13   Joe        48.0   57  black\n14  Karl         8.0   29  black",
      "text/html": "<div>\n<style scoped>\n    .dataframe tbody tr th:only-of-type {\n        vertical-align: middle;\n    }\n\n    .dataframe tbody tr th {\n        vertical-align: top;\n    }\n\n    .dataframe thead th {\n        text-align: right;\n    }\n</style>\n<table border=\"1\" class=\"dataframe\">\n  <thead>\n    <tr style=\"text-align: right;\">\n      <th></th>\n      <th>Name</th>\n      <th>Experience</th>\n      <th>Age</th>\n      <th>Color</th>\n    </tr>\n  </thead>\n  <tbody>\n    <tr>\n      <th>0</th>\n      <td>Joe</td>\n      <td>10.0</td>\n      <td>31</td>\n      <td>red</td>\n    </tr>\n    <tr>\n      <th>1</th>\n      <td>Joe</td>\n      <td>40.0</td>\n      <td>23</td>\n      <td>green</td>\n    </tr>\n    <tr>\n      <th>2</th>\n      <td>Karl</td>\n      <td>33.0</td>\n      <td>53</td>\n      <td>black</td>\n    </tr>\n    <tr>\n      <th>3</th>\n      <td>Mark</td>\n      <td>11.0</td>\n      <td>55</td>\n      <td>black</td>\n    </tr>\n    <tr>\n      <th>4</th>\n      <td>Karl</td>\n      <td>54.0</td>\n      <td>16</td>\n      <td>red</td>\n    </tr>\n    <tr>\n      <th>5</th>\n      <td>Joe</td>\n      <td>47.0</td>\n      <td>41</td>\n      <td>red</td>\n    </tr>\n    <tr>\n      <th>6</th>\n      <td>Joe</td>\n      <td>22.0</td>\n      <td>20</td>\n      <td>green</td>\n    </tr>\n    <tr>\n      <th>7</th>\n      <td>Mark</td>\n      <td>29.0</td>\n      <td>38</td>\n      <td>green</td>\n    </tr>\n    <tr>\n      <th>8</th>\n      <td>Joe</td>\n      <td>37.0</td>\n      <td>44</td>\n      <td>black</td>\n    </tr>\n    <tr>\n      <th>9</th>\n      <td>Karl</td>\n      <td>20.0</td>\n      <td>18</td>\n      <td>green</td>\n    </tr>\n    <tr>\n      <th>10</th>\n      <td>Mark</td>\n      <td>33.0</td>\n      <td>43</td>\n      <td>red</td>\n    </tr>\n    <tr>\n      <th>11</th>\n      <td>Karl</td>\n      <td>16.0</td>\n      <td>63</td>\n      <td>green</td>\n    </tr>\n    <tr>\n      <th>12</th>\n      <td>Mark</td>\n      <td>4.0</td>\n      <td>44</td>\n      <td>black</td>\n    </tr>\n    <tr>\n      <th>13</th>\n      <td>Joe</td>\n      <td>48.0</td>\n      <td>57</td>\n      <td>black</td>\n    </tr>\n    <tr>\n      <th>14</th>\n      <td>Karl</td>\n      <td>8.0</td>\n      <td>29</td>\n      <td>black</td>\n    </tr>\n  </tbody>\n</table>\n</div>"
     },
     "execution_count": 77,
     "metadata": {},
     "output_type": "execute_result"
    }
   ],
   "source": [
    "# TODO - создайте фрейм и настройте правильные типы колонок\n",
    "#           DataFrame.info() дожен отображать указанные типы\n",
    "df = pd.DataFrame(\n",
    "    {\n",
    "        \"Name\": np.random.choice(['Mark', 'Karl', 'Joe'], size=(15, )),\n",
    "        \"Experience\": np.random.randint(1., 60., size=(15,)).astype(float),\n",
    "        \"Age\": np.random.randint(14, 65, size=(15,)),\n",
    "        \"Color\": pd.Categorical(\n",
    "            np.random.choice((\"black\", \"red\", \"green\"), size=(15, ))\n",
    "        )\n",
    "    }\n",
    ")\n",
    "df.info()\n",
    "df"
   ]
  },
  {
   "cell_type": "markdown",
   "metadata": {
    "id": "Mq_Iapt6Wuzq"
   },
   "source": [
    "Выберите числа в ряду `ds1`, которых нет в ряду `ds2`:\n",
    "\n",
    "> Почитайте и примение метод `Series.isin()`"
   ]
  },
  {
   "cell_type": "code",
   "execution_count": 81,
   "metadata": {
    "_cell_id": "fJeJfFPpFiWN76yo"
   },
   "outputs": [
    {
     "data": {
      "text/plain": "1    2\n2    3\ndtype: int64"
     },
     "execution_count": 81,
     "metadata": {},
     "output_type": "execute_result"
    }
   ],
   "source": [
    "ds1 = pd.Series([1, 2, 3, 4, 5])\n",
    "ds2 = pd.Series([4, 5, 6, 7, 8, 1, 9])\n",
    "\n",
    "# TODO - выберите значения в ds1, которых нет в ds2: \n",
    "# [2, 3]\n",
    "mask = ~(ds1.isin(ds2))\n",
    "ds1[mask]"
   ]
  },
  {
   "cell_type": "markdown",
   "metadata": {
    "id": "zpEVG3hjZGfS"
   },
   "source": [
    "Оставьте в ряду два наиболее частых значения, остальные замените значением 'Другое':\n",
    "\n",
    "<details>\n",
    "<summary>Подсказка 1</summary>\n",
    "\n",
    "Для определения наиболее частых значений воспользуйтесь методом `Series.value_counts()`\n",
    "</details>\n",
    "\n",
    "<details>\n",
    "<summary>Подсказка 2</summary>\n",
    "\n",
    "Чтобы получить наиболее частые значения можно воспользоваться результатом `Series.value_counts()` - атрибутом `Series.index`\n",
    "</details>\n",
    "\n",
    "<details>\n",
    "<summary>Подсказка 3</summary>\n",
    "\n",
    "Получив наиболее частые значения, можно индексировать другие через маску метода `Series.isin()`\n",
    "</details>\n"
   ]
  },
  {
   "cell_type": "code",
   "execution_count": 115,
   "metadata": {
    "id": "6hexIuIsYw-D",
    "_cell_id": "Zyl0irwhAIxs24Fe"
   },
   "outputs": [
    {
     "data": {
      "text/plain": "0     Другое\n1     Другое\n2     Другое\n3          4\n4          4\n5          4\n6     Другое\n7          1\n8          1\n9          1\n10         1\n11         4\ndtype: object"
     },
     "execution_count": 115,
     "metadata": {},
     "output_type": "execute_result"
    }
   ],
   "source": [
    "ds = pd.Series([2, 2, 2, 4, 4, 4, 3, 1, 1, 1, 1, 4])\n",
    "\n",
    "# TODO - определите два наиболее частых значения в ряду (1, 4),\n",
    "#           остальные замените значением 'Другое'\n",
    "values = ds.value_counts()[:2].index\n",
    "mask = ds.isin(values)\n",
    "for i in range(len(mask)):\n",
    "    if not mask[i]:\n",
    "        ds[i] = \"Другое\"\n",
    "ds\n",
    "\n",
    "# ['Другое', 'Другое', 'Другое', 4, 4, 4, 'Другое', 1, 1, 1, 1, 4]"
   ]
  },
  {
   "cell_type": "markdown",
   "metadata": {
    "id": "oz2HQvOcb5SN"
   },
   "source": [
    "Сделайте каждую первую букву в словах ряда заглавной:"
   ]
  },
  {
   "cell_type": "code",
   "execution_count": 117,
   "metadata": {
    "_cell_id": "Z0ZLYaIRtZrsXJVV"
   },
   "outputs": [
    {
     "data": {
      "text/plain": "0        How\n1         To\n2        Use\n3    Pandas?\ndtype: object"
     },
     "execution_count": 117,
     "metadata": {},
     "output_type": "execute_result"
    }
   ],
   "source": [
    "ds = pd.Series(['how', 'to', 'use', 'pandas?'])\n",
    "\n",
    "# TODO - сделайте каждую первую букву заглавной с помощью Series.apply()\n",
    "ds.apply(str.capitalize)"
   ]
  },
  {
   "cell_type": "markdown",
   "metadata": {
    "id": "DMVceUcqd9RF"
   },
   "source": [
    "Выберите записи с максимальным значением по колонке `x1`:"
   ]
  },
  {
   "cell_type": "code",
   "execution_count": 137,
   "metadata": {
    "_cell_id": "u2nT6Ibsi3B5kbJx"
   },
   "outputs": [
    {
     "name": "stdout",
     "output_type": "stream",
     "text": [
      "    x1  x2  x3\n",
      "0    0   1   3\n",
      "1    0   0   2\n",
      "2    2   0   3\n",
      "3    1   3   0\n",
      "4    0   1   3\n",
      "5    2   2   2\n",
      "6    0   3   1\n",
      "7    2   0   0\n",
      "8    3   2   3\n",
      "9    3   2   2\n",
      "10   3   2   3\n",
      "11   3   0   1\n",
      "12   1   0   2\n",
      "13   2   3   1\n",
      "14   1   2   1\n"
     ]
    },
    {
     "data": {
      "text/plain": "    x1  x2  x3\n8    3   2   3\n9    3   2   2\n10   3   2   3\n11   3   0   1",
      "text/html": "<div>\n<style scoped>\n    .dataframe tbody tr th:only-of-type {\n        vertical-align: middle;\n    }\n\n    .dataframe tbody tr th {\n        vertical-align: top;\n    }\n\n    .dataframe thead th {\n        text-align: right;\n    }\n</style>\n<table border=\"1\" class=\"dataframe\">\n  <thead>\n    <tr style=\"text-align: right;\">\n      <th></th>\n      <th>x1</th>\n      <th>x2</th>\n      <th>x3</th>\n    </tr>\n  </thead>\n  <tbody>\n    <tr>\n      <th>8</th>\n      <td>3</td>\n      <td>2</td>\n      <td>3</td>\n    </tr>\n    <tr>\n      <th>9</th>\n      <td>3</td>\n      <td>2</td>\n      <td>2</td>\n    </tr>\n    <tr>\n      <th>10</th>\n      <td>3</td>\n      <td>2</td>\n      <td>3</td>\n    </tr>\n    <tr>\n      <th>11</th>\n      <td>3</td>\n      <td>0</td>\n      <td>1</td>\n    </tr>\n  </tbody>\n</table>\n</div>"
     },
     "execution_count": 137,
     "metadata": {},
     "output_type": "execute_result"
    }
   ],
   "source": [
    "df = pd.DataFrame(\n",
    "    np.random.randint(0, 4, size=(15, 3)), \n",
    "    columns=['x1', 'x2', 'x3']\n",
    ")\n",
    "print(df)\n",
    "# TODO - выберите те записи, которые имеют x1 равный \n",
    "#           максимальному значению в колонке x1\n",
    "\n",
    "# df.query(\"x1 == x1.max()\")\n",
    "mask = (df[\"x1\"] == df[\"x1\"].max())\n",
    "df[mask]"
   ]
  },
  {
   "cell_type": "markdown",
   "metadata": {
    "id": "Ct6PN4nCeqOA"
   },
   "source": [
    "Выведите количество пропусков в каждой колонке данных:"
   ]
  },
  {
   "cell_type": "code",
   "execution_count": 139,
   "metadata": {
    "_cell_id": "Knvzp5bAgjj0djGA"
   },
   "outputs": [
    {
     "data": {
      "text/plain": "Manufacturer           4\nModel                  1\nType                   3\nMin.Price              7\nPrice                  2\nMax.Price              5\nMPG.city               9\nMPG.highway            2\nAirBags                6\nDriveTrain             7\nCylinders              5\nEngineSize             2\nHorsepower             7\nRPM                    3\nRev.per.mile           6\nMan.trans.avail        5\nFuel.tank.capacity     8\nPassengers             2\nLength                 4\nWheelbase              1\nWidth                  6\nTurn.circle            5\nRear.seat.room         4\nLuggage.room          19\nWeight                 7\nOrigin                 5\nMake                   3\ndtype: int64"
     },
     "execution_count": 139,
     "metadata": {},
     "output_type": "execute_result"
    }
   ],
   "source": [
    "df = pd.read_csv('https://raw.githubusercontent.com/AleksDevEdu/ml_edu/master/datasets/Cars93_miss.csv')\n",
    "\n",
    "# TODO - отобразите количество пропусков в данных по каждой колонке\n",
    "df.isna().sum()"
   ]
  },
  {
   "cell_type": "markdown",
   "metadata": {
    "id": "suuzAbGzhlX1"
   },
   "source": [
    "Замените пропущенные значения в колонке `Min.Price` средним значениям по этой колонке:"
   ]
  },
  {
   "cell_type": "code",
   "execution_count": 356,
   "metadata": {
    "id": "JVSvCfgThTh3",
    "_cell_id": "xmxQbvZenje3a141"
   },
   "outputs": [
    {
     "name": "stdout",
     "output_type": "stream",
     "text": [
      "0\n"
     ]
    }
   ],
   "source": [
    "df = pd.read_csv('https://raw.githubusercontent.com/AleksDevEdu/ml_edu/master/datasets/Cars93_miss.csv')\n",
    "# TODO - заполните NaN в колонке Min.Price средним значением по этой колонке\n",
    "mean = df[\"Min.Price\"].aggregate(\"mean\", axis=\"rows\")\n",
    "df[\"Min.Price\"].fillna(mean, inplace=True)\n",
    "# NOTE - после заполнения убедитесь, что в этой колонке нет пропущенных\n",
    "print(df[\"Min.Price\"].isna().sum())\n",
    "\n",
    "# mean = df.aggregate(\"mean\", axis=\"rows\")\n",
    "# for i in df:\n",
    "#     if i in mean:\n",
    "#         df[i].fillna(mean[i], inplace=True)\n",
    "# df.isna().sum()"
   ]
  },
  {
   "cell_type": "markdown",
   "metadata": {
    "id": "FMmDLiwxg3W1"
   },
   "source": [
    "Отсортируйте и выведите фрейм с колонками в алфавитном порядке:"
   ]
  },
  {
   "cell_type": "code",
   "execution_count": 274,
   "metadata": {
    "id": "0rcW6H5qf70T",
    "_cell_id": "5yJOL2yL9XuoTfDx"
   },
   "outputs": [
    {
     "data": {
      "text/plain": "   f  b  e  c  d  a\n4  9  7  3  6  8  3\n3  2  1  7  5  7  5\n2  3  5  3  0  8  5\n1  0  6  5  6  3  5\n0  3  4  6  3  8  1",
      "text/html": "<div>\n<style scoped>\n    .dataframe tbody tr th:only-of-type {\n        vertical-align: middle;\n    }\n\n    .dataframe tbody tr th {\n        vertical-align: top;\n    }\n\n    .dataframe thead th {\n        text-align: right;\n    }\n</style>\n<table border=\"1\" class=\"dataframe\">\n  <thead>\n    <tr style=\"text-align: right;\">\n      <th></th>\n      <th>f</th>\n      <th>b</th>\n      <th>e</th>\n      <th>c</th>\n      <th>d</th>\n      <th>a</th>\n    </tr>\n  </thead>\n  <tbody>\n    <tr>\n      <th>4</th>\n      <td>9</td>\n      <td>7</td>\n      <td>3</td>\n      <td>6</td>\n      <td>8</td>\n      <td>3</td>\n    </tr>\n    <tr>\n      <th>3</th>\n      <td>2</td>\n      <td>1</td>\n      <td>7</td>\n      <td>5</td>\n      <td>7</td>\n      <td>5</td>\n    </tr>\n    <tr>\n      <th>2</th>\n      <td>3</td>\n      <td>5</td>\n      <td>3</td>\n      <td>0</td>\n      <td>8</td>\n      <td>5</td>\n    </tr>\n    <tr>\n      <th>1</th>\n      <td>0</td>\n      <td>6</td>\n      <td>5</td>\n      <td>6</td>\n      <td>3</td>\n      <td>5</td>\n    </tr>\n    <tr>\n      <th>0</th>\n      <td>3</td>\n      <td>4</td>\n      <td>6</td>\n      <td>3</td>\n      <td>8</td>\n      <td>1</td>\n    </tr>\n  </tbody>\n</table>\n</div>"
     },
     "execution_count": 274,
     "metadata": {},
     "output_type": "execute_result"
    }
   ],
   "source": [
    "df = pd.DataFrame(np.random.randint(0, 10, size=(5, 6)), columns=list('fbecda'))\n",
    "\n",
    "# TODO - получите фрейм с отсортированными по именам колонкам (f e d c b a)\n",
    "df.sort_index(axis=\"rows\", ascending=False)\n",
    "# NOTE - сортировка должна быть автоматической"
   ]
  },
  {
   "cell_type": "markdown",
   "metadata": {
    "id": "sRobyGHAjlRm"
   },
   "source": [
    "Отобразите каждую 20ю запись во фрейме и только колонки `Manufacturer`, `Model`, `Type`:"
   ]
  },
  {
   "cell_type": "code",
   "execution_count": 323,
   "metadata": {
    "id": "kNNS2B5ai9GU",
    "_cell_id": "0F7WwivL2hJ7NQ8E"
   },
   "outputs": [
    {
     "name": "stdout",
     "output_type": "stream",
     "text": [
      "   Manufacturer    Model     Type\n",
      "20     Chrysler  LeBaron  Compact\n",
      "   Manufacturer    Model    Type\n",
      "40        Honda  Prelude  Sporty\n",
      "   Manufacturer   Model     Type\n",
      "60      Mercury  Cougar  Midsize\n",
      "   Manufacturer   Model   Type\n",
      "80       Subaru  Loyale  Small\n"
     ]
    }
   ],
   "source": [
    "df = pd.read_csv('https://raw.githubusercontent.com/AleksDevEdu/ml_edu/master/datasets/Cars93_miss.csv')\n",
    "\n",
    "# TODO - отобразите запись с периодичностью во фрейме и определенные колонки\n",
    "indexes = []\n",
    "columns = list(df.columns)\n",
    "for j in [\"Manufacturer\", \"Model\", \"Type\"]:\n",
    "    indexes.append(columns.index(j))\n",
    "\n",
    "for i in range(20, df.shape[0], 20):\n",
    "    print(df.iloc[i:i+1, indexes])"
   ]
  },
  {
   "cell_type": "markdown",
   "metadata": {
    "id": "im7s33LdkZPq"
   },
   "source": [
    "Получите ряд, который содержит длины строк:"
   ]
  },
  {
   "cell_type": "code",
   "execution_count": 337,
   "metadata": {
    "id": "WKREEgzYj9Dv",
    "_cell_id": "K1ksyOI7TGlXEWVF"
   },
   "outputs": [
    {
     "name": "stdout",
     "output_type": "stream",
     "text": [
      "0    3\n",
      "1    2\n",
      "2    3\n",
      "3    7\n",
      "dtype: int64\n"
     ]
    }
   ],
   "source": [
    "ds = pd.Series(['how', 'to', 'use', 'pandas?'])\n",
    "ds\n",
    "# TODO - создайте ряд, содержащий длины строк:\n",
    "# 0    3\n",
    "# 1    2\n",
    "# 2    3\n",
    "# 3    7\n",
    "# dtype: int64\n",
    "\n",
    "ds = ds.apply(lambda x: len(x))\n",
    "print(ds)"
   ]
  }
 ],
 "metadata": {
  "colab": {
   "collapsed_sections": [],
   "name": "Pr03_Pandas.ipynb",
   "provenance": [],
   "toc_visible": true
  },
  "interpreter": {
   "hash": "a4f60baab10fba59fece84098e84620134308d8d27de6ca0fa68d1c22a6654b7"
  },
  "language_info": {
   "codemirror_mode": {
    "name": "ipython",
    "version": 3
   },
   "file_extension": ".py",
   "mimetype": "text/x-python",
   "name": "python",
   "nbconvert_exporter": "python",
   "pygments_lexer": "ipython3",
   "version": "3.8.13"
  }
 },
 "nbformat": 4,
 "nbformat_minor": 2
}
